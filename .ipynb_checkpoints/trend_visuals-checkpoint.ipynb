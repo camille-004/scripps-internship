{
 "cells": [
  {
   "cell_type": "code",
   "execution_count": 175,
   "metadata": {},
   "outputs": [
    {
     "data": {
      "text/plain": [
       "2"
      ]
     },
     "execution_count": 175,
     "metadata": {},
     "output_type": "execute_result"
    }
   ],
   "source": [
    "import pandas as pd\n",
    "import matplotlib.pyplot as plt\n",
    "import numpy as np\n",
    "\n",
    "import matplotlib.pylab as pylab\n",
    "plt.style.use('seaborn-white')"
   ]
  },
  {
   "cell_type": "markdown",
   "metadata": {},
   "source": [
    "# Ebola 1 Trend Visuals"
   ]
  },
  {
   "cell_type": "code",
   "execution_count": 224,
   "metadata": {},
   "outputs": [
    {
     "name": "stdout",
     "output_type": "stream",
     "text": [
      "['Temp_Mean', 'RespMean_Mean', 'HR_Mean', 'RR_Mean', 'AOPAMean_Mean', 'AOPSystolic_Mean', 'AOPDiastolic_Mean', 'PR_Mean', 'QRS_Mean', 'QT_Mean', 'Activity_Mean', 'Fridericia_Mean', 'Bazett_Mean']\n"
     ]
    }
   ],
   "source": [
    "def swap(lst, pos1, pos2):\n",
    "    lst[pos1], lst[pos2] = lst[pos2], lst[pos1]\n",
    "    return lst\n",
    "\n",
    "def plot(table):\n",
    "    df = pd.read_csv(table)\n",
    "    cols = df.columns[5:]\n",
    "    _, idx = np.unique([col.split('_')[0] for col in cols], return_index=True)\n",
    "    cols = cols[np.sort(idx)][:-1]\n",
    "    \n",
    "    top_two = list(df['SubjectName'].value_counts().index[:2])\n",
    "    top_two_df = df[df['SubjectName'].isin(top_two)]\n",
    "    subjs = top_two_df['SubjectName']\n",
    "    \n",
    "    order = ['Temp_Mean', 'RespMean_Mean', 'HR_Mean', 'RR_Mean', 'AOPAMean_Mean', 'AOPSystolic_Mean', 'AOPDiastolic_Mean']\n",
    "    counter = 0\n",
    "    \n",
    "    for i in range(0, len(order)):\n",
    "        if order[i] not in top_two_df.columns:\n",
    "            continue\n",
    "        cols = swap(list(cols), list(cols).index(order[i]), counter)\n",
    "        counter = counter + 1\n",
    "            \n",
    "plot('EBOV-Cyno-Aero-1.csv-Table 1.csv')"
   ]
  },
  {
   "cell_type": "markdown",
   "metadata": {},
   "source": [
    "# Ebola 2 Trend Visuals"
   ]
  },
  {
   "cell_type": "code",
   "execution_count": 225,
   "metadata": {},
   "outputs": [
    {
     "name": "stdout",
     "output_type": "stream",
     "text": [
      "['Temp_Mean', 'RespMean_Mean', 'HR_Mean', 'RR_Mean', 'AOPAMean_Mean', 'AOPSystolic_Mean', 'AOPDiastolic_Mean', 'PR_Mean', 'QRS_Mean', 'QT_Mean', 'Activity_Mean', 'Fridericia_Mean', 'Bazett_Mean']\n"
     ]
    }
   ],
   "source": [
    "plot('EBOV-Cyno-Aero-2.csv-Table 1.csv')"
   ]
  },
  {
   "cell_type": "markdown",
   "metadata": {},
   "source": [
    "# Lassa Trend Visuals"
   ]
  },
  {
   "cell_type": "code",
   "execution_count": 226,
   "metadata": {},
   "outputs": [
    {
     "name": "stdout",
     "output_type": "stream",
     "text": [
      "['Temp_Mean', 'RespMean_Mean', 'HR_Mean', 'RR_Mean', 'AOPAMean_Mean', 'AOPSystolic_Mean', 'AOPDiastolic_Mean', 'PR_Mean', 'QRS_Mean', 'LVPSystolic_Mean', 'LVPDiastolic_Mean', 'LVPRate_Mean', 'Bazett_Mean', 'Fridericia_Mean', 'QT_Mean', 'LVPMean_Mean', 'ITPDepth_Mean', 'APP_Mean', 'ANP_Mean']\n"
     ]
    }
   ],
   "source": [
    "plot('LASSA-Cyno-Aero.csv-Table 1.csv')"
   ]
  },
  {
   "cell_type": "markdown",
   "metadata": {},
   "source": [
    "# Marburg 1 Trend Visuals"
   ]
  },
  {
   "cell_type": "code",
   "execution_count": 227,
   "metadata": {},
   "outputs": [
    {
     "name": "stdout",
     "output_type": "stream",
     "text": [
      "['Temp_Mean', 'RespMean_Mean', 'HR_Mean', 'RR_Mean', 'AOPAMean_Mean', 'AOPSystolic_Mean', 'AOPDiastolic_Mean', 'PR_Mean', 'QRS_Mean', 'LVPSystolic_Mean', 'LVPDiastolic_Mean', 'LVPRate_Mean', 'Bazett_Mean', 'Fridericia_Mean', 'QT_Mean', 'LVPMean_Mean', 'ITPDepth_Mean', 'APP_Mean', 'ANP_Mean']\n"
     ]
    }
   ],
   "source": [
    "plot('MARV-Cyno-IM.csv-Table 1.csv')"
   ]
  },
  {
   "cell_type": "markdown",
   "metadata": {},
   "source": [
    "# Marburg 2 Trend Visuals"
   ]
  },
  {
   "cell_type": "code",
   "execution_count": 228,
   "metadata": {},
   "outputs": [
    {
     "name": "stdout",
     "output_type": "stream",
     "text": [
      "['Temp_Mean', 'RespMean_Mean', 'HR_Mean', 'RR_Mean', 'AOPAMean_Mean', 'AOPSystolic_Mean', 'AOPDiastolic_Mean', 'PR_Mean', 'QRS_Mean', 'LVPSystolic_Mean', 'LVPDiastolic_Mean', 'LVPRate_Mean', 'Bazett_Mean', 'Fridericia_Mean', 'QT_Mean', 'LVPMean_Mean', 'ITPDepth_Mean', 'APP_Mean', 'ANP_Mean']\n"
     ]
    }
   ],
   "source": [
    "plot('MARV-Rhesus-Aero.csv-Table 1.csv')"
   ]
  },
  {
   "cell_type": "markdown",
   "metadata": {},
   "source": [
    "# Nipah Trend Visuals"
   ]
  },
  {
   "cell_type": "code",
   "execution_count": 229,
   "metadata": {},
   "outputs": [
    {
     "name": "stdout",
     "output_type": "stream",
     "text": [
      "['Temp_Mean', 'HR_Mean', 'RR_Mean', 'AOPAMean_Mean', 'AOPSystolic_Mean', 'AOPDiastolic_Mean', 'LVPDiastolic_Mean', 'LVPMean_Mean', 'LVPRate_Mean', 'LVPSystolic_Mean', 'PR_Mean', 'QRS_Mean', 'QT_Mean', 'Fridericia_Mean', 'Bazett_Mean']\n"
     ]
    }
   ],
   "source": [
    "plot('NIPAH-AGM-IT.csv-Table 1.csv')"
   ]
  },
  {
   "cell_type": "markdown",
   "metadata": {},
   "source": [
    "# Plague Trend Visuals"
   ]
  },
  {
   "cell_type": "code",
   "execution_count": 220,
   "metadata": {},
   "outputs": [
    {
     "name": "stdout",
     "output_type": "stream",
     "text": [
      "['Temp_Mean', 'RespMean_Mean', 'HR_Mean', 'RR_Mean', 'AOPAMean_Mean', 'AOPSystolic_Mean', 'AOPDiastolic_Mean', 'PR_Mean', 'QRS_Mean', 'LVPSystolic_Mean', 'LVPDiastolic_Mean', 'LVPRate_Mean', 'Bazett_Mean', 'Fridericia_Mean', 'QT_Mean', 'LVPMean_Mean', 'ITPDepth_Mean', 'APP_Mean', 'ANP_Mean']\n"
     ]
    }
   ],
   "source": [
    "plot('Plague-AGM-Aero.csv-Table 1.csv')"
   ]
  },
  {
   "cell_type": "code",
   "execution_count": null,
   "metadata": {},
   "outputs": [],
   "source": []
  },
  {
   "cell_type": "code",
   "execution_count": null,
   "metadata": {},
   "outputs": [],
   "source": []
  },
  {
   "cell_type": "code",
   "execution_count": null,
   "metadata": {},
   "outputs": [],
   "source": []
  },
  {
   "cell_type": "code",
   "execution_count": null,
   "metadata": {},
   "outputs": [],
   "source": []
  },
  {
   "cell_type": "code",
   "execution_count": null,
   "metadata": {},
   "outputs": [],
   "source": []
  },
  {
   "cell_type": "code",
   "execution_count": null,
   "metadata": {},
   "outputs": [],
   "source": []
  },
  {
   "cell_type": "code",
   "execution_count": null,
   "metadata": {},
   "outputs": [],
   "source": []
  },
  {
   "cell_type": "code",
   "execution_count": null,
   "metadata": {},
   "outputs": [],
   "source": []
  },
  {
   "cell_type": "code",
   "execution_count": null,
   "metadata": {},
   "outputs": [],
   "source": []
  }
 ],
 "metadata": {
  "kernelspec": {
   "display_name": "myenv",
   "language": "python",
   "name": "myenv"
  },
  "language_info": {
   "codemirror_mode": {
    "name": "ipython",
    "version": 3
   },
   "file_extension": ".py",
   "mimetype": "text/x-python",
   "name": "python",
   "nbconvert_exporter": "python",
   "pygments_lexer": "ipython3",
   "version": "3.7.4"
  }
 },
 "nbformat": 4,
 "nbformat_minor": 4
}
