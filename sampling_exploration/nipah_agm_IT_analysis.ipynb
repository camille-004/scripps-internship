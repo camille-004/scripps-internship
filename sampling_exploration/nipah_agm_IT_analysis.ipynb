{
 "cells": [
  {
   "cell_type": "code",
   "execution_count": 2,
   "metadata": {
    "execution": {
     "iopub.execute_input": "2020-07-01T10:23:59.206072Z",
     "iopub.status.busy": "2020-07-01T10:23:59.205514Z",
     "iopub.status.idle": "2020-07-01T10:23:59.803528Z",
     "shell.execute_reply": "2020-07-01T10:23:59.803013Z"
    },
    "papermill": {
     "duration": 0.6109,
     "end_time": "2020-07-01T10:23:59.803629",
     "exception": false,
     "start_time": "2020-07-01T10:23:59.192729",
     "status": "completed"
    },
    "tags": []
   },
   "outputs": [],
   "source": [
    "import pandas as pd\n",
    "import numpy as np\n",
    "import matplotlib.pyplot as plt\n",
    "import seaborn as sns\n",
    "\n",
    "plt.style.use('seaborn-whitegrid')"
   ]
  },
  {
   "cell_type": "code",
   "execution_count": 3,
   "metadata": {
    "execution": {
     "iopub.execute_input": "2020-07-01T10:23:59.824855Z",
     "iopub.status.busy": "2020-07-01T10:23:59.824386Z",
     "iopub.status.idle": "2020-07-01T10:23:59.826166Z",
     "shell.execute_reply": "2020-07-01T10:23:59.826537Z"
    },
    "papermill": {
     "duration": 0.012457,
     "end_time": "2020-07-01T10:23:59.826632",
     "exception": false,
     "start_time": "2020-07-01T10:23:59.814175",
     "status": "completed"
    },
    "tags": []
   },
   "outputs": [],
   "source": [
    "csv = 'EBOV-Cyno-Aero-1.csv-Table 1.csv'"
   ]
  },
  {
   "cell_type": "code",
   "execution_count": 4,
   "metadata": {
    "execution": {
     "iopub.execute_input": "2020-07-01T10:23:59.843200Z",
     "iopub.status.busy": "2020-07-01T10:23:59.842758Z",
     "iopub.status.idle": "2020-07-01T10:23:59.844943Z",
     "shell.execute_reply": "2020-07-01T10:23:59.844488Z"
    },
    "jupyter": {
     "source_hidden": true
    },
    "papermill": {
     "duration": 0.011467,
     "end_time": "2020-07-01T10:23:59.845009",
     "exception": false,
     "start_time": "2020-07-01T10:23:59.833542",
     "status": "completed"
    },
    "tags": [
     "parameters"
    ]
   },
   "outputs": [],
   "source": [
    "csv = 'default'"
   ]
  },
  {
   "cell_type": "code",
   "execution_count": 5,
   "metadata": {
    "execution": {
     "iopub.execute_input": "2020-07-01T10:23:59.860763Z",
     "iopub.status.busy": "2020-07-01T10:23:59.860364Z",
     "iopub.status.idle": "2020-07-01T10:23:59.862657Z",
     "shell.execute_reply": "2020-07-01T10:23:59.862244Z"
    },
    "papermill": {
     "duration": 0.010944,
     "end_time": "2020-07-01T10:23:59.862720",
     "exception": false,
     "start_time": "2020-07-01T10:23:59.851776",
     "status": "completed"
    },
    "tags": [
     "injected-parameters"
    ]
   },
   "outputs": [],
   "source": [
    "# Parameters\n",
    "csv = \"NIPAH-AGM-IT.csv-Table 1.csv\"\n"
   ]
  },
  {
   "cell_type": "code",
   "execution_count": 6,
   "metadata": {
    "execution": {
     "iopub.execute_input": "2020-07-01T10:23:59.889222Z",
     "iopub.status.busy": "2020-07-01T10:23:59.888741Z",
     "iopub.status.idle": "2020-07-01T10:23:59.936510Z",
     "shell.execute_reply": "2020-07-01T10:23:59.936043Z"
    },
    "papermill": {
     "duration": 0.067687,
     "end_time": "2020-07-01T10:23:59.936582",
     "exception": false,
     "start_time": "2020-07-01T10:23:59.868895",
     "status": "completed"
    },
    "tags": []
   },
   "outputs": [
    {
     "data": {
      "text/html": [
       "<div>\n",
       "<style scoped>\n",
       "    .dataframe tbody tr th:only-of-type {\n",
       "        vertical-align: middle;\n",
       "    }\n",
       "\n",
       "    .dataframe tbody tr th {\n",
       "        vertical-align: top;\n",
       "    }\n",
       "\n",
       "    .dataframe thead th {\n",
       "        text-align: right;\n",
       "    }\n",
       "</style>\n",
       "<table border=\"1\" class=\"dataframe\">\n",
       "  <thead>\n",
       "    <tr style=\"text-align: right;\">\n",
       "      <th></th>\n",
       "      <th>Day</th>\n",
       "      <th>Time</th>\n",
       "      <th>TimeS</th>\n",
       "      <th>Study</th>\n",
       "      <th>SubjectName</th>\n",
       "      <th>AOPAMean_Mean</th>\n",
       "      <th>AOPAMean_Q25</th>\n",
       "      <th>AOPAMean_Q75</th>\n",
       "      <th>AOPDiastolic_Mean</th>\n",
       "      <th>AOPDiastolic_Q25</th>\n",
       "      <th>...</th>\n",
       "      <th>QT_Mean</th>\n",
       "      <th>QT_Q25</th>\n",
       "      <th>QT_Q75</th>\n",
       "      <th>RR_Mean</th>\n",
       "      <th>RR_Q25</th>\n",
       "      <th>RR_Q75</th>\n",
       "      <th>Temp_Mean</th>\n",
       "      <th>Temp_Q25</th>\n",
       "      <th>Temp_Q75</th>\n",
       "      <th>Y</th>\n",
       "    </tr>\n",
       "  </thead>\n",
       "  <tbody>\n",
       "    <tr>\n",
       "      <th>0</th>\n",
       "      <td>0</td>\n",
       "      <td>12:31</td>\n",
       "      <td>0</td>\n",
       "      <td>NIPAH-AGM-IT</td>\n",
       "      <td>n1001</td>\n",
       "      <td>-0.767101</td>\n",
       "      <td>-0.990264</td>\n",
       "      <td>-0.545464</td>\n",
       "      <td>-0.792407</td>\n",
       "      <td>-1.044257</td>\n",
       "      <td>...</td>\n",
       "      <td>1.470923</td>\n",
       "      <td>1.379478</td>\n",
       "      <td>1.621435</td>\n",
       "      <td>1.270301</td>\n",
       "      <td>1.066008</td>\n",
       "      <td>1.495312</td>\n",
       "      <td>-0.326596</td>\n",
       "      <td>-0.536508</td>\n",
       "      <td>-0.103354</td>\n",
       "      <td>0</td>\n",
       "    </tr>\n",
       "    <tr>\n",
       "      <th>1</th>\n",
       "      <td>0</td>\n",
       "      <td>13:01</td>\n",
       "      <td>1800</td>\n",
       "      <td>NIPAH-AGM-IT</td>\n",
       "      <td>n1001</td>\n",
       "      <td>-0.430866</td>\n",
       "      <td>-0.762147</td>\n",
       "      <td>-0.125953</td>\n",
       "      <td>-0.480518</td>\n",
       "      <td>-0.823272</td>\n",
       "      <td>...</td>\n",
       "      <td>1.244186</td>\n",
       "      <td>1.051767</td>\n",
       "      <td>1.463301</td>\n",
       "      <td>1.088560</td>\n",
       "      <td>0.816897</td>\n",
       "      <td>1.392229</td>\n",
       "      <td>-0.293540</td>\n",
       "      <td>-0.336161</td>\n",
       "      <td>-0.179281</td>\n",
       "      <td>0</td>\n",
       "    </tr>\n",
       "    <tr>\n",
       "      <th>2</th>\n",
       "      <td>0</td>\n",
       "      <td>13:31</td>\n",
       "      <td>3600</td>\n",
       "      <td>NIPAH-AGM-IT</td>\n",
       "      <td>n1001</td>\n",
       "      <td>0.086523</td>\n",
       "      <td>-0.236005</td>\n",
       "      <td>0.389612</td>\n",
       "      <td>-0.027984</td>\n",
       "      <td>-0.374025</td>\n",
       "      <td>...</td>\n",
       "      <td>0.815240</td>\n",
       "      <td>0.613082</td>\n",
       "      <td>1.056617</td>\n",
       "      <td>0.597933</td>\n",
       "      <td>0.306405</td>\n",
       "      <td>0.969499</td>\n",
       "      <td>-0.501393</td>\n",
       "      <td>-0.711296</td>\n",
       "      <td>-0.331050</td>\n",
       "      <td>0</td>\n",
       "    </tr>\n",
       "    <tr>\n",
       "      <th>3</th>\n",
       "      <td>0</td>\n",
       "      <td>14:01</td>\n",
       "      <td>5400</td>\n",
       "      <td>NIPAH-AGM-IT</td>\n",
       "      <td>n1001</td>\n",
       "      <td>0.046834</td>\n",
       "      <td>-0.313943</td>\n",
       "      <td>0.386935</td>\n",
       "      <td>-0.208579</td>\n",
       "      <td>-0.615419</td>\n",
       "      <td>...</td>\n",
       "      <td>0.911976</td>\n",
       "      <td>0.610340</td>\n",
       "      <td>1.232683</td>\n",
       "      <td>0.675615</td>\n",
       "      <td>0.417697</td>\n",
       "      <td>1.079180</td>\n",
       "      <td>-0.178584</td>\n",
       "      <td>-0.352391</td>\n",
       "      <td>-0.008208</td>\n",
       "      <td>0</td>\n",
       "    </tr>\n",
       "    <tr>\n",
       "      <th>4</th>\n",
       "      <td>0</td>\n",
       "      <td>14:31</td>\n",
       "      <td>7200</td>\n",
       "      <td>NIPAH-AGM-IT</td>\n",
       "      <td>n1001</td>\n",
       "      <td>-0.260209</td>\n",
       "      <td>-0.621116</td>\n",
       "      <td>0.152627</td>\n",
       "      <td>-0.323598</td>\n",
       "      <td>-0.740379</td>\n",
       "      <td>...</td>\n",
       "      <td>1.165877</td>\n",
       "      <td>1.019875</td>\n",
       "      <td>1.370262</td>\n",
       "      <td>0.975387</td>\n",
       "      <td>0.600813</td>\n",
       "      <td>1.444252</td>\n",
       "      <td>0.114906</td>\n",
       "      <td>-0.203309</td>\n",
       "      <td>0.455673</td>\n",
       "      <td>0</td>\n",
       "    </tr>\n",
       "  </tbody>\n",
       "</table>\n",
       "<p>5 rows × 51 columns</p>\n",
       "</div>"
      ],
      "text/plain": [
       "   Day   Time  TimeS         Study SubjectName  AOPAMean_Mean  AOPAMean_Q25  \\\n",
       "0    0  12:31      0  NIPAH-AGM-IT       n1001      -0.767101     -0.990264   \n",
       "1    0  13:01   1800  NIPAH-AGM-IT       n1001      -0.430866     -0.762147   \n",
       "2    0  13:31   3600  NIPAH-AGM-IT       n1001       0.086523     -0.236005   \n",
       "3    0  14:01   5400  NIPAH-AGM-IT       n1001       0.046834     -0.313943   \n",
       "4    0  14:31   7200  NIPAH-AGM-IT       n1001      -0.260209     -0.621116   \n",
       "\n",
       "   AOPAMean_Q75  AOPDiastolic_Mean  AOPDiastolic_Q25  ...   QT_Mean    QT_Q25  \\\n",
       "0     -0.545464          -0.792407         -1.044257  ...  1.470923  1.379478   \n",
       "1     -0.125953          -0.480518         -0.823272  ...  1.244186  1.051767   \n",
       "2      0.389612          -0.027984         -0.374025  ...  0.815240  0.613082   \n",
       "3      0.386935          -0.208579         -0.615419  ...  0.911976  0.610340   \n",
       "4      0.152627          -0.323598         -0.740379  ...  1.165877  1.019875   \n",
       "\n",
       "     QT_Q75   RR_Mean    RR_Q25    RR_Q75  Temp_Mean  Temp_Q25  Temp_Q75  Y  \n",
       "0  1.621435  1.270301  1.066008  1.495312  -0.326596 -0.536508 -0.103354  0  \n",
       "1  1.463301  1.088560  0.816897  1.392229  -0.293540 -0.336161 -0.179281  0  \n",
       "2  1.056617  0.597933  0.306405  0.969499  -0.501393 -0.711296 -0.331050  0  \n",
       "3  1.232683  0.675615  0.417697  1.079180  -0.178584 -0.352391 -0.008208  0  \n",
       "4  1.370262  0.975387  0.600813  1.444252   0.114906 -0.203309  0.455673  0  \n",
       "\n",
       "[5 rows x 51 columns]"
      ]
     },
     "execution_count": 6,
     "metadata": {},
     "output_type": "execute_result"
    }
   ],
   "source": [
    "df = pd.read_csv('~/Desktop/MachineLearningPython/scripps-data/' + csv)\n",
    "df.head(5)"
   ]
  },
  {
   "cell_type": "markdown",
   "metadata": {
    "papermill": {
     "duration": 0.006393,
     "end_time": "2020-07-01T10:23:59.951141",
     "exception": false,
     "start_time": "2020-07-01T10:23:59.944748",
     "status": "completed"
    },
    "tags": []
   },
   "source": [
    "# Get Summary Statistics"
   ]
  },
  {
   "cell_type": "code",
   "execution_count": 7,
   "metadata": {
    "execution": {
     "iopub.execute_input": "2020-07-01T10:23:59.975480Z",
     "iopub.status.busy": "2020-07-01T10:23:59.975083Z",
     "iopub.status.idle": "2020-07-01T10:24:00.063233Z",
     "shell.execute_reply": "2020-07-01T10:24:00.063636Z"
    },
    "papermill": {
     "duration": 0.10658,
     "end_time": "2020-07-01T10:24:00.063726",
     "exception": false,
     "start_time": "2020-07-01T10:23:59.957146",
     "status": "completed"
    },
    "tags": []
   },
   "outputs": [
    {
     "data": {
      "text/html": [
       "<div>\n",
       "<style scoped>\n",
       "    .dataframe tbody tr th:only-of-type {\n",
       "        vertical-align: middle;\n",
       "    }\n",
       "\n",
       "    .dataframe tbody tr th {\n",
       "        vertical-align: top;\n",
       "    }\n",
       "\n",
       "    .dataframe thead th {\n",
       "        text-align: right;\n",
       "    }\n",
       "</style>\n",
       "<table border=\"1\" class=\"dataframe\">\n",
       "  <thead>\n",
       "    <tr style=\"text-align: right;\">\n",
       "      <th></th>\n",
       "      <th>AOPAMean_Mean</th>\n",
       "      <th>AOPAMean_Q25</th>\n",
       "      <th>AOPAMean_Q75</th>\n",
       "      <th>AOPDiastolic_Mean</th>\n",
       "      <th>AOPDiastolic_Q25</th>\n",
       "      <th>AOPDiastolic_Q75</th>\n",
       "      <th>AOPSystolic_Mean</th>\n",
       "      <th>AOPSystolic_Q25</th>\n",
       "      <th>AOPSystolic_Q75</th>\n",
       "      <th>Bazett_Mean</th>\n",
       "      <th>...</th>\n",
       "      <th>QT_Mean</th>\n",
       "      <th>QT_Q25</th>\n",
       "      <th>QT_Q75</th>\n",
       "      <th>RR_Mean</th>\n",
       "      <th>RR_Q25</th>\n",
       "      <th>RR_Q75</th>\n",
       "      <th>Temp_Mean</th>\n",
       "      <th>Temp_Q25</th>\n",
       "      <th>Temp_Q75</th>\n",
       "      <th>Y</th>\n",
       "    </tr>\n",
       "  </thead>\n",
       "  <tbody>\n",
       "    <tr>\n",
       "      <th>count</th>\n",
       "      <td>5231.000000</td>\n",
       "      <td>5231.000000</td>\n",
       "      <td>5231.000000</td>\n",
       "      <td>5231.000000</td>\n",
       "      <td>5231.000000</td>\n",
       "      <td>5231.000000</td>\n",
       "      <td>5231.000000</td>\n",
       "      <td>5231.000000</td>\n",
       "      <td>5231.000000</td>\n",
       "      <td>5231.000000</td>\n",
       "      <td>...</td>\n",
       "      <td>5231.000000</td>\n",
       "      <td>5231.000000</td>\n",
       "      <td>5231.000000</td>\n",
       "      <td>5231.000000</td>\n",
       "      <td>5231.000000</td>\n",
       "      <td>5231.000000</td>\n",
       "      <td>5231.000000</td>\n",
       "      <td>5231.000000</td>\n",
       "      <td>5231.000000</td>\n",
       "      <td>5231.000000</td>\n",
       "    </tr>\n",
       "    <tr>\n",
       "      <th>mean</th>\n",
       "      <td>-0.034011</td>\n",
       "      <td>-0.583961</td>\n",
       "      <td>0.466215</td>\n",
       "      <td>0.021908</td>\n",
       "      <td>-0.527197</td>\n",
       "      <td>0.531735</td>\n",
       "      <td>-0.128499</td>\n",
       "      <td>-0.686181</td>\n",
       "      <td>0.375458</td>\n",
       "      <td>0.390409</td>\n",
       "      <td>...</td>\n",
       "      <td>-0.775414</td>\n",
       "      <td>-1.161015</td>\n",
       "      <td>-0.356539</td>\n",
       "      <td>-0.735492</td>\n",
       "      <td>-1.119255</td>\n",
       "      <td>-0.289539</td>\n",
       "      <td>1.960314</td>\n",
       "      <td>1.721779</td>\n",
       "      <td>2.203744</td>\n",
       "      <td>0.628561</td>\n",
       "    </tr>\n",
       "    <tr>\n",
       "      <th>std</th>\n",
       "      <td>1.975673</td>\n",
       "      <td>1.838354</td>\n",
       "      <td>2.147553</td>\n",
       "      <td>1.843885</td>\n",
       "      <td>1.741171</td>\n",
       "      <td>1.984732</td>\n",
       "      <td>2.004173</td>\n",
       "      <td>1.850182</td>\n",
       "      <td>2.192729</td>\n",
       "      <td>1.050699</td>\n",
       "      <td>...</td>\n",
       "      <td>1.981763</td>\n",
       "      <td>2.023078</td>\n",
       "      <td>1.991012</td>\n",
       "      <td>1.448795</td>\n",
       "      <td>1.406119</td>\n",
       "      <td>1.541926</td>\n",
       "      <td>4.904024</td>\n",
       "      <td>4.869384</td>\n",
       "      <td>4.950897</td>\n",
       "      <td>0.483236</td>\n",
       "    </tr>\n",
       "    <tr>\n",
       "      <th>min</th>\n",
       "      <td>-10.125261</td>\n",
       "      <td>-11.051240</td>\n",
       "      <td>-9.253869</td>\n",
       "      <td>-8.435507</td>\n",
       "      <td>-9.302380</td>\n",
       "      <td>-7.692707</td>\n",
       "      <td>-11.386101</td>\n",
       "      <td>-12.233845</td>\n",
       "      <td>-10.614393</td>\n",
       "      <td>-3.125161</td>\n",
       "      <td>...</td>\n",
       "      <td>-10.667755</td>\n",
       "      <td>-10.989712</td>\n",
       "      <td>-10.487496</td>\n",
       "      <td>-6.598448</td>\n",
       "      <td>-6.689933</td>\n",
       "      <td>-6.533118</td>\n",
       "      <td>-30.909385</td>\n",
       "      <td>-32.890472</td>\n",
       "      <td>-29.173971</td>\n",
       "      <td>0.000000</td>\n",
       "    </tr>\n",
       "    <tr>\n",
       "      <th>25%</th>\n",
       "      <td>-0.782278</td>\n",
       "      <td>-1.231985</td>\n",
       "      <td>-0.446204</td>\n",
       "      <td>-0.758263</td>\n",
       "      <td>-1.223122</td>\n",
       "      <td>-0.372692</td>\n",
       "      <td>-0.839969</td>\n",
       "      <td>-1.278199</td>\n",
       "      <td>-0.488177</td>\n",
       "      <td>-0.274254</td>\n",
       "      <td>...</td>\n",
       "      <td>-1.437088</td>\n",
       "      <td>-1.835146</td>\n",
       "      <td>-1.061577</td>\n",
       "      <td>-1.471768</td>\n",
       "      <td>-1.800656</td>\n",
       "      <td>-1.104412</td>\n",
       "      <td>-0.377588</td>\n",
       "      <td>-0.606576</td>\n",
       "      <td>-0.166385</td>\n",
       "      <td>0.000000</td>\n",
       "    </tr>\n",
       "    <tr>\n",
       "      <th>50%</th>\n",
       "      <td>-0.129179</td>\n",
       "      <td>-0.635484</td>\n",
       "      <td>0.336601</td>\n",
       "      <td>-0.086859</td>\n",
       "      <td>-0.611260</td>\n",
       "      <td>0.383137</td>\n",
       "      <td>-0.138715</td>\n",
       "      <td>-0.654703</td>\n",
       "      <td>0.326100</td>\n",
       "      <td>0.218998</td>\n",
       "      <td>...</td>\n",
       "      <td>-0.387751</td>\n",
       "      <td>-0.761551</td>\n",
       "      <td>0.008707</td>\n",
       "      <td>-0.445573</td>\n",
       "      <td>-0.860278</td>\n",
       "      <td>0.003518</td>\n",
       "      <td>0.720315</td>\n",
       "      <td>0.517194</td>\n",
       "      <td>0.941102</td>\n",
       "      <td>1.000000</td>\n",
       "    </tr>\n",
       "    <tr>\n",
       "      <th>75%</th>\n",
       "      <td>0.668341</td>\n",
       "      <td>0.160620</td>\n",
       "      <td>1.174990</td>\n",
       "      <td>0.689559</td>\n",
       "      <td>0.203745</td>\n",
       "      <td>1.223235</td>\n",
       "      <td>0.586775</td>\n",
       "      <td>0.076525</td>\n",
       "      <td>1.109523</td>\n",
       "      <td>0.905813</td>\n",
       "      <td>...</td>\n",
       "      <td>0.485982</td>\n",
       "      <td>0.104844</td>\n",
       "      <td>0.908147</td>\n",
       "      <td>0.291604</td>\n",
       "      <td>-0.151884</td>\n",
       "      <td>0.859028</td>\n",
       "      <td>2.264065</td>\n",
       "      <td>2.062900</td>\n",
       "      <td>2.462203</td>\n",
       "      <td>1.000000</td>\n",
       "    </tr>\n",
       "    <tr>\n",
       "      <th>max</th>\n",
       "      <td>11.523314</td>\n",
       "      <td>9.310406</td>\n",
       "      <td>13.778199</td>\n",
       "      <td>9.164154</td>\n",
       "      <td>7.266100</td>\n",
       "      <td>11.102826</td>\n",
       "      <td>12.337743</td>\n",
       "      <td>9.881690</td>\n",
       "      <td>14.630313</td>\n",
       "      <td>8.643236</td>\n",
       "      <td>...</td>\n",
       "      <td>4.973849</td>\n",
       "      <td>4.672653</td>\n",
       "      <td>5.303930</td>\n",
       "      <td>3.499658</td>\n",
       "      <td>3.066919</td>\n",
       "      <td>4.066538</td>\n",
       "      <td>41.333055</td>\n",
       "      <td>41.055955</td>\n",
       "      <td>41.572511</td>\n",
       "      <td>1.000000</td>\n",
       "    </tr>\n",
       "  </tbody>\n",
       "</table>\n",
       "<p>8 rows × 46 columns</p>\n",
       "</div>"
      ],
      "text/plain": [
       "       AOPAMean_Mean  AOPAMean_Q25  AOPAMean_Q75  AOPDiastolic_Mean  \\\n",
       "count    5231.000000   5231.000000   5231.000000        5231.000000   \n",
       "mean       -0.034011     -0.583961      0.466215           0.021908   \n",
       "std         1.975673      1.838354      2.147553           1.843885   \n",
       "min       -10.125261    -11.051240     -9.253869          -8.435507   \n",
       "25%        -0.782278     -1.231985     -0.446204          -0.758263   \n",
       "50%        -0.129179     -0.635484      0.336601          -0.086859   \n",
       "75%         0.668341      0.160620      1.174990           0.689559   \n",
       "max        11.523314      9.310406     13.778199           9.164154   \n",
       "\n",
       "       AOPDiastolic_Q25  AOPDiastolic_Q75  AOPSystolic_Mean  AOPSystolic_Q25  \\\n",
       "count       5231.000000       5231.000000       5231.000000      5231.000000   \n",
       "mean          -0.527197          0.531735         -0.128499        -0.686181   \n",
       "std            1.741171          1.984732          2.004173         1.850182   \n",
       "min           -9.302380         -7.692707        -11.386101       -12.233845   \n",
       "25%           -1.223122         -0.372692         -0.839969        -1.278199   \n",
       "50%           -0.611260          0.383137         -0.138715        -0.654703   \n",
       "75%            0.203745          1.223235          0.586775         0.076525   \n",
       "max            7.266100         11.102826         12.337743         9.881690   \n",
       "\n",
       "       AOPSystolic_Q75  Bazett_Mean  ...      QT_Mean       QT_Q25  \\\n",
       "count      5231.000000  5231.000000  ...  5231.000000  5231.000000   \n",
       "mean          0.375458     0.390409  ...    -0.775414    -1.161015   \n",
       "std           2.192729     1.050699  ...     1.981763     2.023078   \n",
       "min         -10.614393    -3.125161  ...   -10.667755   -10.989712   \n",
       "25%          -0.488177    -0.274254  ...    -1.437088    -1.835146   \n",
       "50%           0.326100     0.218998  ...    -0.387751    -0.761551   \n",
       "75%           1.109523     0.905813  ...     0.485982     0.104844   \n",
       "max          14.630313     8.643236  ...     4.973849     4.672653   \n",
       "\n",
       "            QT_Q75      RR_Mean       RR_Q25       RR_Q75    Temp_Mean  \\\n",
       "count  5231.000000  5231.000000  5231.000000  5231.000000  5231.000000   \n",
       "mean     -0.356539    -0.735492    -1.119255    -0.289539     1.960314   \n",
       "std       1.991012     1.448795     1.406119     1.541926     4.904024   \n",
       "min     -10.487496    -6.598448    -6.689933    -6.533118   -30.909385   \n",
       "25%      -1.061577    -1.471768    -1.800656    -1.104412    -0.377588   \n",
       "50%       0.008707    -0.445573    -0.860278     0.003518     0.720315   \n",
       "75%       0.908147     0.291604    -0.151884     0.859028     2.264065   \n",
       "max       5.303930     3.499658     3.066919     4.066538    41.333055   \n",
       "\n",
       "          Temp_Q25     Temp_Q75            Y  \n",
       "count  5231.000000  5231.000000  5231.000000  \n",
       "mean      1.721779     2.203744     0.628561  \n",
       "std       4.869384     4.950897     0.483236  \n",
       "min     -32.890472   -29.173971     0.000000  \n",
       "25%      -0.606576    -0.166385     0.000000  \n",
       "50%       0.517194     0.941102     1.000000  \n",
       "75%       2.062900     2.462203     1.000000  \n",
       "max      41.055955    41.572511     1.000000  \n",
       "\n",
       "[8 rows x 46 columns]"
      ]
     },
     "execution_count": 7,
     "metadata": {},
     "output_type": "execute_result"
    }
   ],
   "source": [
    "df.drop(['Day', 'TimeS'], axis=1).describe()"
   ]
  },
  {
   "cell_type": "markdown",
   "metadata": {
    "papermill": {
     "duration": 0.007025,
     "end_time": "2020-07-01T10:24:00.078681",
     "exception": false,
     "start_time": "2020-07-01T10:24:00.071656",
     "status": "completed"
    },
    "tags": []
   },
   "source": [
    "# Get Sampling Info for All of Subjects - Is it consistent?"
   ]
  },
  {
   "cell_type": "code",
   "execution_count": 8,
   "metadata": {
    "execution": {
     "iopub.execute_input": "2020-07-01T10:24:00.104428Z",
     "iopub.status.busy": "2020-07-01T10:24:00.103841Z",
     "iopub.status.idle": "2020-07-01T10:24:02.411269Z",
     "shell.execute_reply": "2020-07-01T10:24:02.410864Z"
    },
    "papermill": {
     "duration": 2.326117,
     "end_time": "2020-07-01T10:24:02.411333",
     "exception": false,
     "start_time": "2020-07-01T10:24:00.085216",
     "status": "completed"
    },
    "tags": []
   },
   "outputs": [
    {
     "data": {
      "image/png": "[encoded data removed]",
      "text/plain": [
       "<Figure size 864x288 with 2 Axes>"
      ]
     },
     "metadata": {
      "needs_background": "light"
     },
     "output_type": "display_data"
    },
    {
     "data": {
      "image/png": "[encoded data removed]",
      "text/plain": [
       "<Figure size 864x288 with 2 Axes>"
      ]
     },
     "metadata": {
      "needs_background": "light"
     },
     "output_type": "display_data"
    },
    {
     "data": {
      "image/png": "[encoded data removed]",
      "text/plain": [
       "<Figure size 864x288 with 2 Axes>"
      ]
     },
     "metadata": {
      "needs_background": "light"
     },
     "output_type": "display_data"
    },
    {
     "data": {
      "image/png": "[encoded data removed]",
      "text/plain": [
       "<Figure size 864x288 with 2 Axes>"
      ]
     },
     "metadata": {
      "needs_background": "light"
     },
     "output_type": "display_data"
    },
    {
     "data": {
      "image/png": "[encoded data removed]",
      "text/plain": [
       "<Figure size 864x288 with 2 Axes>"
      ]
     },
     "metadata": {
      "needs_background": "light"
     },
     "output_type": "display_data"
    },
    {
     "data": {
      "image/png": "[encoded data removed]",
      "text/plain": [
       "<Figure size 864x288 with 2 Axes>"
      ]
     },
     "metadata": {
      "needs_background": "light"
     },
     "output_type": "display_data"
    },
    {
     "data": {
      "image/png": "[encoded data removed]",
      "text/plain": [
       "<Figure size 864x288 with 2 Axes>"
      ]
     },
     "metadata": {
      "needs_background": "light"
     },
     "output_type": "display_data"
    }
   ],
   "source": [
    "def sampling_analysis(subject):\n",
    "    df_subj = df[df['SubjectName'] == subject]\n",
    "\n",
    "    fig, ax = plt.subplots(1, 2, figsize=(12, 4))\n",
    "\n",
    "    num_days = len(np.unique(df_subj['Day']))\n",
    "    first_exposed = df_subj.loc[df_subj.Y == 1]['TimeS'].to_list()[0]\n",
    "    df_subj.plot(x='TimeS', y='Day', color='black', legend=False, subplots=True, ax=ax[0], rot=90)\n",
    "    ax[0].plot([first_exposed, first_exposed], [0, num_days], lw=6, alpha=0.4, ls='--')\n",
    "    ax[0].set_title(\"Days of Study, Reset at Exposure Period\", fontsize=11)\n",
    "\n",
    "    sampling_freqs = []\n",
    "    exposed = []\n",
    "    days = []\n",
    "\n",
    "    for i in range(0, 2):\n",
    "        for day in np.unique(df_subj.Day):\n",
    "            num_obvs = len(df_subj.loc[df_subj.Y == i]\n",
    "            .loc[df_subj.Day == day])\n",
    "            days.append(day)\n",
    "            exposed.append(i)\n",
    "            sampling_freqs.append(num_obvs)\n",
    "\n",
    "    sampling_freqs = pd.DataFrame(list(zip(days, exposed, sampling_freqs)), columns=['Day', 'Exposed', 'Sampling Frequency'])\n",
    "    sampling_freqs = sampling_freqs[sampling_freqs['Sampling Frequency'] != 0]\n",
    "\n",
    "    sampling_freqs.plot(y='Sampling Frequency', legend=False, color='black', subplots=True, ax=ax[1])\n",
    "    exposed_start = sampling_freqs.loc[sampling_freqs['Exposed'] == 1].index[0]\n",
    "    ax[1].plot([exposed_start, exposed_start], [0, max(sampling_freqs['Sampling Frequency'] + 5)], lw=4, alpha=0.4, ls='--')\n",
    "    plt.xticks(rotation=90)\n",
    "    plt.xlabel('Number of Days into Study')\n",
    "    ax[1].set_title('Sampling Frequency Over Study on ' + subject, fontsize=11)\n",
    "\n",
    "subjects = list(np.unique(df['SubjectName']))\n",
    "for subject in subjects:\n",
    "    sampling_analysis(subject)"
   ]
  },
  {
   "cell_type": "markdown",
   "metadata": {},
   "source": [
    "## Observations\n",
    "* n1001's and n1004's studies go on significantly longer than the rest, although those subjects are exposed at the same time as the others.\n",
    "    * Their sampling frequencies also have a huge dip at 25 days in. This is unexplained by the paper, both in mentions of the Nipah virus and the intratracheal injections.\n",
    "* Sampling frequency trends seem largely random\n",
    "* Data collection for n2002 and n2003 stopped just two days after exposure.\n",
    "    * The subjects likely died, but why at the same time?\n",
    "* Random SF dips for n2003, n2001, n1002 as well\n",
    "    * But only one significant dip, and around the same time for certain pairs of subjects"
   ]
  },
  {
   "cell_type": "code",
   "execution_count": 9,
   "metadata": {
    "execution": {
     "iopub.execute_input": "2020-07-01T10:24:02.439757Z",
     "iopub.status.busy": "2020-07-01T10:24:02.439313Z",
     "iopub.status.idle": "2020-07-01T10:24:02.462068Z",
     "shell.execute_reply": "2020-07-01T10:24:02.461665Z"
    },
    "papermill": {
     "duration": 0.040216,
     "end_time": "2020-07-01T10:24:02.462132",
     "exception": false,
     "start_time": "2020-07-01T10:24:02.421916",
     "status": "completed"
    },
    "tags": []
   },
   "outputs": [
    {
     "data": {
      "text/html": [
       "<div>\n",
       "<style scoped>\n",
       "    .dataframe tbody tr th:only-of-type {\n",
       "        vertical-align: middle;\n",
       "    }\n",
       "\n",
       "    .dataframe tbody tr th {\n",
       "        vertical-align: top;\n",
       "    }\n",
       "\n",
       "    .dataframe thead th {\n",
       "        text-align: right;\n",
       "    }\n",
       "</style>\n",
       "<table border=\"1\" class=\"dataframe\">\n",
       "  <thead>\n",
       "    <tr style=\"text-align: right;\">\n",
       "      <th></th>\n",
       "      <th>Num_TimeS</th>\n",
       "      <th>TimeS_Exposed</th>\n",
       "      <th>StudyProgress_Exposed</th>\n",
       "    </tr>\n",
       "    <tr>\n",
       "      <th>SubjectName</th>\n",
       "      <th></th>\n",
       "      <th></th>\n",
       "      <th></th>\n",
       "    </tr>\n",
       "  </thead>\n",
       "  <tbody>\n",
       "    <tr>\n",
       "      <th>n1001</th>\n",
       "      <td>2241000</td>\n",
       "      <td>500400</td>\n",
       "      <td>0.223293</td>\n",
       "    </tr>\n",
       "    <tr>\n",
       "      <th>n1002</th>\n",
       "      <td>1222200</td>\n",
       "      <td>500400</td>\n",
       "      <td>0.409426</td>\n",
       "    </tr>\n",
       "    <tr>\n",
       "      <th>n1003</th>\n",
       "      <td>1366200</td>\n",
       "      <td>500400</td>\n",
       "      <td>0.366271</td>\n",
       "    </tr>\n",
       "    <tr>\n",
       "      <th>n1004</th>\n",
       "      <td>2241000</td>\n",
       "      <td>500400</td>\n",
       "      <td>0.223293</td>\n",
       "    </tr>\n",
       "    <tr>\n",
       "      <th>n2001</th>\n",
       "      <td>1344600</td>\n",
       "      <td>504000</td>\n",
       "      <td>0.374833</td>\n",
       "    </tr>\n",
       "    <tr>\n",
       "      <th>n2002</th>\n",
       "      <td>678600</td>\n",
       "      <td>505800</td>\n",
       "      <td>0.745358</td>\n",
       "    </tr>\n",
       "    <tr>\n",
       "      <th>n2003</th>\n",
       "      <td>678600</td>\n",
       "      <td>507600</td>\n",
       "      <td>0.748011</td>\n",
       "    </tr>\n",
       "  </tbody>\n",
       "</table>\n",
       "</div>"
      ],
      "text/plain": [
       "             Num_TimeS  TimeS_Exposed  StudyProgress_Exposed\n",
       "SubjectName                                                 \n",
       "n1001          2241000         500400               0.223293\n",
       "n1002          1222200         500400               0.409426\n",
       "n1003          1366200         500400               0.366271\n",
       "n1004          2241000         500400               0.223293\n",
       "n2001          1344600         504000               0.374833\n",
       "n2002           678600         505800               0.745358\n",
       "n2003           678600         507600               0.748011"
      ]
     },
     "execution_count": 9,
     "metadata": {},
     "output_type": "execute_result"
    }
   ],
   "source": [
    "time_steps = []\n",
    "exposed_at = []\n",
    "\n",
    "for subject in subjects:\n",
    "    time_steps.append(max(df[df['SubjectName'] == subject]['TimeS']))\n",
    "    exposed_at.append(min(df[(df['SubjectName'] == subject) & (df['Y'] == 1)]['TimeS']))\n",
    "\n",
    "exposed_when = [i / j for i, j in zip(exposed_at, time_steps)]\n",
    "\n",
    "length_exposed_df = pd.DataFrame(list(zip(subjects, time_steps, exposed_at, exposed_when)), columns=['SubjectName', 'Num_TimeS', 'TimeS_Exposed', 'StudyProgress_Exposed'])\n",
    "length_exposed_df = length_exposed_df.set_index('SubjectName')\n",
    "length_exposed_df"
   ]
  },
  {
   "cell_type": "code",
   "execution_count": 10,
   "metadata": {
    "execution": {
     "iopub.execute_input": "2020-07-01T10:24:02.486815Z",
     "iopub.status.busy": "2020-07-01T10:24:02.486418Z",
     "iopub.status.idle": "2020-07-01T10:24:02.496590Z",
     "shell.execute_reply": "2020-07-01T10:24:02.496184Z"
    },
    "papermill": {
     "duration": 0.024665,
     "end_time": "2020-07-01T10:24:02.496655",
     "exception": false,
     "start_time": "2020-07-01T10:24:02.471990",
     "status": "completed"
    },
    "tags": []
   },
   "outputs": [
    {
     "data": {
      "text/html": [
       "<div>\n",
       "<style scoped>\n",
       "    .dataframe tbody tr th:only-of-type {\n",
       "        vertical-align: middle;\n",
       "    }\n",
       "\n",
       "    .dataframe tbody tr th {\n",
       "        vertical-align: top;\n",
       "    }\n",
       "\n",
       "    .dataframe thead th {\n",
       "        text-align: right;\n",
       "    }\n",
       "</style>\n",
       "<table border=\"1\" class=\"dataframe\">\n",
       "  <thead>\n",
       "    <tr style=\"text-align: right;\">\n",
       "      <th></th>\n",
       "      <th>Num_TimeS</th>\n",
       "      <th>TimeS_Exposed</th>\n",
       "      <th>StudyProgress_Exposed</th>\n",
       "    </tr>\n",
       "  </thead>\n",
       "  <tbody>\n",
       "    <tr>\n",
       "      <th>count</th>\n",
       "      <td>7.000000e+00</td>\n",
       "      <td>7.000000</td>\n",
       "      <td>7.000000</td>\n",
       "    </tr>\n",
       "    <tr>\n",
       "      <th>mean</th>\n",
       "      <td>1.396029e+06</td>\n",
       "      <td>502714.285714</td>\n",
       "      <td>0.441498</td>\n",
       "    </tr>\n",
       "    <tr>\n",
       "      <th>std</th>\n",
       "      <td>6.443488e+05</td>\n",
       "      <td>3067.805172</td>\n",
       "      <td>0.220847</td>\n",
       "    </tr>\n",
       "    <tr>\n",
       "      <th>min</th>\n",
       "      <td>6.786000e+05</td>\n",
       "      <td>500400.000000</td>\n",
       "      <td>0.223293</td>\n",
       "    </tr>\n",
       "    <tr>\n",
       "      <th>25%</th>\n",
       "      <td>9.504000e+05</td>\n",
       "      <td>500400.000000</td>\n",
       "      <td>0.294782</td>\n",
       "    </tr>\n",
       "    <tr>\n",
       "      <th>50%</th>\n",
       "      <td>1.344600e+06</td>\n",
       "      <td>500400.000000</td>\n",
       "      <td>0.374833</td>\n",
       "    </tr>\n",
       "    <tr>\n",
       "      <th>75%</th>\n",
       "      <td>1.803600e+06</td>\n",
       "      <td>504900.000000</td>\n",
       "      <td>0.577392</td>\n",
       "    </tr>\n",
       "    <tr>\n",
       "      <th>max</th>\n",
       "      <td>2.241000e+06</td>\n",
       "      <td>507600.000000</td>\n",
       "      <td>0.748011</td>\n",
       "    </tr>\n",
       "  </tbody>\n",
       "</table>\n",
       "</div>"
      ],
      "text/plain": [
       "          Num_TimeS  TimeS_Exposed  StudyProgress_Exposed\n",
       "count  7.000000e+00       7.000000               7.000000\n",
       "mean   1.396029e+06  502714.285714               0.441498\n",
       "std    6.443488e+05    3067.805172               0.220847\n",
       "min    6.786000e+05  500400.000000               0.223293\n",
       "25%    9.504000e+05  500400.000000               0.294782\n",
       "50%    1.344600e+06  500400.000000               0.374833\n",
       "75%    1.803600e+06  504900.000000               0.577392\n",
       "max    2.241000e+06  507600.000000               0.748011"
      ]
     },
     "execution_count": 10,
     "metadata": {},
     "output_type": "execute_result"
    }
   ],
   "source": [
    "length_exposed_df.describe()"
   ]
  },
  {
   "cell_type": "code",
   "execution_count": 11,
   "metadata": {
    "execution": {
     "iopub.execute_input": "2020-07-01T10:24:02.522486Z",
     "iopub.status.busy": "2020-07-01T10:24:02.522103Z",
     "iopub.status.idle": "2020-07-01T10:24:02.698168Z",
     "shell.execute_reply": "2020-07-01T10:24:02.698474Z"
    },
    "papermill": {
     "duration": 0.191536,
     "end_time": "2020-07-01T10:24:02.698555",
     "exception": false,
     "start_time": "2020-07-01T10:24:02.507019",
     "status": "completed"
    },
    "tags": []
   },
   "outputs": [
    {
     "data": {
      "text/plain": [
       "Text(0.5, 1.0, '# of Timesteps and Exposure Point for Each Subject')"
      ]
     },
     "execution_count": 11,
     "metadata": {},
     "output_type": "execute_result"
    },
    {
     "data": {
      "image/png": "[encoded data removed]",
      "text/plain": [
       "<Figure size 432x288 with 1 Axes>"
      ]
     },
     "metadata": {
      "needs_background": "light"
     },
     "output_type": "display_data"
    }
   ],
   "source": [
    "length_exposed_df.plot(y=['Num_TimeS', 'TimeS_Exposed'], kind='bar')\n",
    "plt.ylabel('# of Timesteps')\n",
    "plt.title('# of Timesteps and Exposure Point for Each Subject')\n"
   ]
  },
  {
   "cell_type": "markdown",
   "metadata": {},
   "source": [
    "## Observations\n",
    "* Exposure starts at same time with relatively small margin of error\n",
    "* Subject study times are largely varied. This doesn't seem to correlate with the trends in sampling frequency as much as it did in the other studies.\n",
    "* Some subjects were clearly healthier than others to begin with."
   ]
  }
 ],
 "metadata": {
  "celltoolbar": "Tags",
  "file_extension": ".py",
  "kernelspec": {
   "display_name": "Python 3.7.6 64-bit",
   "language": "python",
   "name": "python37664bit428820946cd7473d8a76804ffe0f7c21"
  },
  "language_info": {
   "codemirror_mode": {
    "name": "ipython",
    "version": 3
   },
   "file_extension": ".py",
   "mimetype": "text/x-python",
   "name": "python",
   "nbconvert_exporter": "python",
   "pygments_lexer": "ipython3",
   "version": "3.7.6"
  },
  "mimetype": "text/x-python",
  "name": "python",
  "npconvert_exporter": "python",
  "papermill": {
   "duration": 4.455928,
   "end_time": "2020-07-01T10:24:03.072867",
   "environment_variables": {},
   "exception": null,
   "input_path": "sampling_exploration/sampling_analysis.ipynb",
   "output_path": "sampling_exploration/nipah_agm_IT_analysis.ipynb",
   "parameters": {
    "csv": "NIPAH-AGM-IT.csv-Table 1.csv"
   },
   "start_time": "2020-07-01T10:23:58.616939",
   "version": "2.1.2"
  },
  "pygments_lexer": "ipython3",
  "version": 3
 },
 "nbformat": 4,
 "nbformat_minor": 4
}
