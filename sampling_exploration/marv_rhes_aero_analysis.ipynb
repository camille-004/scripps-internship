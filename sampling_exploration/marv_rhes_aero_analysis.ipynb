{
 "cells": [
  {
   "cell_type": "code",
   "execution_count": 1,
   "metadata": {
    "execution": {
     "iopub.execute_input": "2020-07-01T10:23:55.388732Z",
     "iopub.status.busy": "2020-07-01T10:23:55.388191Z",
     "iopub.status.idle": "2020-07-01T10:23:55.987994Z",
     "shell.execute_reply": "2020-07-01T10:23:55.987355Z"
    },
    "papermill": {
     "duration": 0.612431,
     "end_time": "2020-07-01T10:23:55.988096",
     "exception": false,
     "start_time": "2020-07-01T10:23:55.375665",
     "status": "completed"
    },
    "tags": []
   },
   "outputs": [],
   "source": [
    "import pandas as pd\n",
    "import numpy as np\n",
    "import matplotlib.pyplot as plt\n",
    "import seaborn as sns\n",
    "\n",
    "plt.style.use('ggplot')"
   ]
  },
  {
   "cell_type": "code",
   "execution_count": 2,
   "metadata": {
    "execution": {
     "iopub.execute_input": "2020-07-01T10:23:56.009935Z",
     "iopub.status.busy": "2020-07-01T10:23:56.009444Z",
     "iopub.status.idle": "2020-07-01T10:23:56.011650Z",
     "shell.execute_reply": "2020-07-01T10:23:56.011171Z"
    },
    "papermill": {
     "duration": 0.013234,
     "end_time": "2020-07-01T10:23:56.011725",
     "exception": false,
     "start_time": "2020-07-01T10:23:55.998491",
     "status": "completed"
    },
    "tags": []
   },
   "outputs": [],
   "source": [
    "csv = 'EBOV-Cyno-Aero-1.csv-Table 1.csv'"
   ]
  },
  {
   "cell_type": "code",
   "execution_count": 3,
   "metadata": {
    "execution": {
     "iopub.execute_input": "2020-07-01T10:23:56.028489Z",
     "iopub.status.busy": "2020-07-01T10:23:56.028035Z",
     "iopub.status.idle": "2020-07-01T10:23:56.030221Z",
     "shell.execute_reply": "2020-07-01T10:23:56.029764Z"
    },
    "jupyter": {
     "source_hidden": true
    },
    "papermill": {
     "duration": 0.011594,
     "end_time": "2020-07-01T10:23:56.030293",
     "exception": false,
     "start_time": "2020-07-01T10:23:56.018699",
     "status": "completed"
    },
    "tags": [
     "parameters"
    ]
   },
   "outputs": [],
   "source": [
    "csv = 'default'"
   ]
  },
  {
   "cell_type": "code",
   "execution_count": 4,
   "metadata": {
    "execution": {
     "iopub.execute_input": "2020-07-01T10:23:56.046732Z",
     "iopub.status.busy": "2020-07-01T10:23:56.046282Z",
     "iopub.status.idle": "2020-07-01T10:23:56.048557Z",
     "shell.execute_reply": "2020-07-01T10:23:56.048091Z"
    },
    "papermill": {
     "duration": 0.011465,
     "end_time": "2020-07-01T10:23:56.048627",
     "exception": false,
     "start_time": "2020-07-01T10:23:56.037162",
     "status": "completed"
    },
    "tags": [
     "injected-parameters"
    ]
   },
   "outputs": [],
   "source": [
    "# Parameters\n",
    "csv = \"MARV-Rhesus-Aero.csv-Table 1.csv\"\n"
   ]
  },
  {
   "cell_type": "code",
   "execution_count": 5,
   "metadata": {
    "execution": {
     "iopub.execute_input": "2020-07-01T10:23:56.075941Z",
     "iopub.status.busy": "2020-07-01T10:23:56.075472Z",
     "iopub.status.idle": "2020-07-01T10:23:56.114160Z",
     "shell.execute_reply": "2020-07-01T10:23:56.114534Z"
    },
    "papermill": {
     "duration": 0.059119,
     "end_time": "2020-07-01T10:23:56.114637",
     "exception": false,
     "start_time": "2020-07-01T10:23:56.055518",
     "status": "completed"
    },
    "tags": []
   },
   "outputs": [],
   "source": [
    "df = pd.read_csv(csv)"
   ]
  },
  {
   "cell_type": "markdown",
   "metadata": {
    "papermill": {
     "duration": 0.007077,
     "end_time": "2020-07-01T10:23:56.129959",
     "exception": false,
     "start_time": "2020-07-01T10:23:56.122882",
     "status": "completed"
    },
    "tags": []
   },
   "source": [
    "# Get Summary Statistics"
   ]
  },
  {
   "cell_type": "code",
   "execution_count": 6,
   "metadata": {
    "execution": {
     "iopub.execute_input": "2020-07-01T10:23:56.156144Z",
     "iopub.status.busy": "2020-07-01T10:23:56.152378Z",
     "iopub.status.idle": "2020-07-01T10:23:56.270102Z",
     "shell.execute_reply": "2020-07-01T10:23:56.269699Z"
    },
    "papermill": {
     "duration": 0.133524,
     "end_time": "2020-07-01T10:23:56.270166",
     "exception": false,
     "start_time": "2020-07-01T10:23:56.136642",
     "status": "completed"
    },
    "tags": []
   },
   "outputs": [
    {
     "data": {
      "text/html": [
       "<div>\n",
       "<style scoped>\n",
       "    .dataframe tbody tr th:only-of-type {\n",
       "        vertical-align: middle;\n",
       "    }\n",
       "\n",
       "    .dataframe tbody tr th {\n",
       "        vertical-align: top;\n",
       "    }\n",
       "\n",
       "    .dataframe thead th {\n",
       "        text-align: right;\n",
       "    }\n",
       "</style>\n",
       "<table border=\"1\" class=\"dataframe\">\n",
       "  <thead>\n",
       "    <tr style=\"text-align: right;\">\n",
       "      <th></th>\n",
       "      <th>AOPSystolic_Mean</th>\n",
       "      <th>AOPSystolic_Q25</th>\n",
       "      <th>AOPSystolic_Q75</th>\n",
       "      <th>AOPDiastolic_Mean</th>\n",
       "      <th>AOPDiastolic_Q25</th>\n",
       "      <th>AOPDiastolic_Q75</th>\n",
       "      <th>RespMean_Mean</th>\n",
       "      <th>RespMean_Q25</th>\n",
       "      <th>RespMean_Q75</th>\n",
       "      <th>Temp_Mean</th>\n",
       "      <th>...</th>\n",
       "      <th>ITPDepth_Mean</th>\n",
       "      <th>ITPDepth_Q25</th>\n",
       "      <th>ITPDepth_Q75</th>\n",
       "      <th>APP_Mean</th>\n",
       "      <th>APP_Q25</th>\n",
       "      <th>APP_Q75</th>\n",
       "      <th>ANP_Mean</th>\n",
       "      <th>ANP_Q25</th>\n",
       "      <th>ANP_Q75</th>\n",
       "      <th>Y</th>\n",
       "    </tr>\n",
       "  </thead>\n",
       "  <tbody>\n",
       "    <tr>\n",
       "      <th>count</th>\n",
       "      <td>3448.000000</td>\n",
       "      <td>3448.000000</td>\n",
       "      <td>3448.000000</td>\n",
       "      <td>3448.000000</td>\n",
       "      <td>3448.000000</td>\n",
       "      <td>3448.000000</td>\n",
       "      <td>3448.000000</td>\n",
       "      <td>3448.000000</td>\n",
       "      <td>3448.000000</td>\n",
       "      <td>3448.000000</td>\n",
       "      <td>...</td>\n",
       "      <td>3448.000000</td>\n",
       "      <td>3448.000000</td>\n",
       "      <td>3448.000000</td>\n",
       "      <td>3448.000000</td>\n",
       "      <td>3448.000000</td>\n",
       "      <td>3448.000000</td>\n",
       "      <td>3448.000000</td>\n",
       "      <td>3448.000000</td>\n",
       "      <td>3448.000000</td>\n",
       "      <td>3448.000000</td>\n",
       "    </tr>\n",
       "    <tr>\n",
       "      <th>mean</th>\n",
       "      <td>-0.099519</td>\n",
       "      <td>-0.518315</td>\n",
       "      <td>0.270777</td>\n",
       "      <td>-0.312092</td>\n",
       "      <td>-0.754803</td>\n",
       "      <td>0.100582</td>\n",
       "      <td>0.333528</td>\n",
       "      <td>-0.121526</td>\n",
       "      <td>0.779768</td>\n",
       "      <td>2.266281</td>\n",
       "      <td>...</td>\n",
       "      <td>-0.076835</td>\n",
       "      <td>-0.643601</td>\n",
       "      <td>0.342063</td>\n",
       "      <td>-0.009656</td>\n",
       "      <td>-0.558428</td>\n",
       "      <td>0.411999</td>\n",
       "      <td>-0.195998</td>\n",
       "      <td>-0.732287</td>\n",
       "      <td>0.216978</td>\n",
       "      <td>0.513341</td>\n",
       "    </tr>\n",
       "    <tr>\n",
       "      <th>std</th>\n",
       "      <td>1.429499</td>\n",
       "      <td>1.386841</td>\n",
       "      <td>1.499306</td>\n",
       "      <td>1.361611</td>\n",
       "      <td>1.329525</td>\n",
       "      <td>1.408053</td>\n",
       "      <td>1.259939</td>\n",
       "      <td>1.289021</td>\n",
       "      <td>1.325681</td>\n",
       "      <td>4.734170</td>\n",
       "      <td>...</td>\n",
       "      <td>0.665456</td>\n",
       "      <td>0.561571</td>\n",
       "      <td>0.814911</td>\n",
       "      <td>0.661655</td>\n",
       "      <td>0.541271</td>\n",
       "      <td>0.812603</td>\n",
       "      <td>0.672092</td>\n",
       "      <td>0.537242</td>\n",
       "      <td>0.833693</td>\n",
       "      <td>0.499894</td>\n",
       "    </tr>\n",
       "    <tr>\n",
       "      <th>min</th>\n",
       "      <td>-10.357273</td>\n",
       "      <td>-10.922669</td>\n",
       "      <td>-9.916637</td>\n",
       "      <td>-10.939830</td>\n",
       "      <td>-11.187783</td>\n",
       "      <td>-10.876376</td>\n",
       "      <td>-4.857199</td>\n",
       "      <td>-7.613779</td>\n",
       "      <td>-2.780191</td>\n",
       "      <td>-11.196541</td>\n",
       "      <td>...</td>\n",
       "      <td>-2.757225</td>\n",
       "      <td>-3.233503</td>\n",
       "      <td>-2.560842</td>\n",
       "      <td>-2.578690</td>\n",
       "      <td>-2.715340</td>\n",
       "      <td>-2.653933</td>\n",
       "      <td>-2.764607</td>\n",
       "      <td>-2.900619</td>\n",
       "      <td>-2.789524</td>\n",
       "      <td>0.000000</td>\n",
       "    </tr>\n",
       "    <tr>\n",
       "      <th>25%</th>\n",
       "      <td>-0.629598</td>\n",
       "      <td>-1.037162</td>\n",
       "      <td>-0.334415</td>\n",
       "      <td>-0.779765</td>\n",
       "      <td>-1.209231</td>\n",
       "      <td>-0.394361</td>\n",
       "      <td>-0.463914</td>\n",
       "      <td>-0.933810</td>\n",
       "      <td>-0.067657</td>\n",
       "      <td>-0.334512</td>\n",
       "      <td>...</td>\n",
       "      <td>-0.438388</td>\n",
       "      <td>-0.942258</td>\n",
       "      <td>-0.128266</td>\n",
       "      <td>-0.347583</td>\n",
       "      <td>-0.848039</td>\n",
       "      <td>-0.024385</td>\n",
       "      <td>-0.520856</td>\n",
       "      <td>-0.980574</td>\n",
       "      <td>-0.246728</td>\n",
       "      <td>0.000000</td>\n",
       "    </tr>\n",
       "    <tr>\n",
       "      <th>50%</th>\n",
       "      <td>-0.101547</td>\n",
       "      <td>-0.534888</td>\n",
       "      <td>0.296293</td>\n",
       "      <td>-0.193828</td>\n",
       "      <td>-0.671863</td>\n",
       "      <td>0.230006</td>\n",
       "      <td>0.170465</td>\n",
       "      <td>-0.294361</td>\n",
       "      <td>0.619467</td>\n",
       "      <td>0.426143</td>\n",
       "      <td>...</td>\n",
       "      <td>-0.090334</td>\n",
       "      <td>-0.663475</td>\n",
       "      <td>0.312582</td>\n",
       "      <td>-0.032810</td>\n",
       "      <td>-0.609035</td>\n",
       "      <td>0.400121</td>\n",
       "      <td>-0.173995</td>\n",
       "      <td>-0.727626</td>\n",
       "      <td>0.243791</td>\n",
       "      <td>1.000000</td>\n",
       "    </tr>\n",
       "    <tr>\n",
       "      <th>75%</th>\n",
       "      <td>0.634120</td>\n",
       "      <td>0.177147</td>\n",
       "      <td>1.019730</td>\n",
       "      <td>0.399196</td>\n",
       "      <td>-0.078347</td>\n",
       "      <td>0.859992</td>\n",
       "      <td>0.865989</td>\n",
       "      <td>0.455805</td>\n",
       "      <td>1.311725</td>\n",
       "      <td>2.435568</td>\n",
       "      <td>...</td>\n",
       "      <td>0.276156</td>\n",
       "      <td>-0.354334</td>\n",
       "      <td>0.767672</td>\n",
       "      <td>0.320134</td>\n",
       "      <td>-0.298858</td>\n",
       "      <td>0.814733</td>\n",
       "      <td>0.161403</td>\n",
       "      <td>-0.474086</td>\n",
       "      <td>0.674996</td>\n",
       "      <td>1.000000</td>\n",
       "    </tr>\n",
       "    <tr>\n",
       "      <th>max</th>\n",
       "      <td>8.875209</td>\n",
       "      <td>8.117285</td>\n",
       "      <td>10.527633</td>\n",
       "      <td>4.792388</td>\n",
       "      <td>4.248105</td>\n",
       "      <td>5.614687</td>\n",
       "      <td>7.398475</td>\n",
       "      <td>6.788758</td>\n",
       "      <td>8.627414</td>\n",
       "      <td>32.095655</td>\n",
       "      <td>...</td>\n",
       "      <td>7.755238</td>\n",
       "      <td>6.132094</td>\n",
       "      <td>9.452843</td>\n",
       "      <td>8.861428</td>\n",
       "      <td>6.755588</td>\n",
       "      <td>10.637572</td>\n",
       "      <td>8.499110</td>\n",
       "      <td>6.395511</td>\n",
       "      <td>10.192488</td>\n",
       "      <td>1.000000</td>\n",
       "    </tr>\n",
       "  </tbody>\n",
       "</table>\n",
       "<p>8 rows × 58 columns</p>\n",
       "</div>"
      ],
      "text/plain": [
       "       AOPSystolic_Mean  AOPSystolic_Q25  AOPSystolic_Q75  AOPDiastolic_Mean  \\\n",
       "count       3448.000000      3448.000000      3448.000000        3448.000000   \n",
       "mean          -0.099519        -0.518315         0.270777          -0.312092   \n",
       "std            1.429499         1.386841         1.499306           1.361611   \n",
       "min          -10.357273       -10.922669        -9.916637         -10.939830   \n",
       "25%           -0.629598        -1.037162        -0.334415          -0.779765   \n",
       "50%           -0.101547        -0.534888         0.296293          -0.193828   \n",
       "75%            0.634120         0.177147         1.019730           0.399196   \n",
       "max            8.875209         8.117285        10.527633           4.792388   \n",
       "\n",
       "       AOPDiastolic_Q25  AOPDiastolic_Q75  RespMean_Mean  RespMean_Q25  \\\n",
       "count       3448.000000       3448.000000    3448.000000   3448.000000   \n",
       "mean          -0.754803          0.100582       0.333528     -0.121526   \n",
       "std            1.329525          1.408053       1.259939      1.289021   \n",
       "min          -11.187783        -10.876376      -4.857199     -7.613779   \n",
       "25%           -1.209231         -0.394361      -0.463914     -0.933810   \n",
       "50%           -0.671863          0.230006       0.170465     -0.294361   \n",
       "75%           -0.078347          0.859992       0.865989      0.455805   \n",
       "max            4.248105          5.614687       7.398475      6.788758   \n",
       "\n",
       "       RespMean_Q75    Temp_Mean  ...  ITPDepth_Mean  ITPDepth_Q25  \\\n",
       "count   3448.000000  3448.000000  ...    3448.000000   3448.000000   \n",
       "mean       0.779768     2.266281  ...      -0.076835     -0.643601   \n",
       "std        1.325681     4.734170  ...       0.665456      0.561571   \n",
       "min       -2.780191   -11.196541  ...      -2.757225     -3.233503   \n",
       "25%       -0.067657    -0.334512  ...      -0.438388     -0.942258   \n",
       "50%        0.619467     0.426143  ...      -0.090334     -0.663475   \n",
       "75%        1.311725     2.435568  ...       0.276156     -0.354334   \n",
       "max        8.627414    32.095655  ...       7.755238      6.132094   \n",
       "\n",
       "       ITPDepth_Q75     APP_Mean      APP_Q25      APP_Q75     ANP_Mean  \\\n",
       "count   3448.000000  3448.000000  3448.000000  3448.000000  3448.000000   \n",
       "mean       0.342063    -0.009656    -0.558428     0.411999    -0.195998   \n",
       "std        0.814911     0.661655     0.541271     0.812603     0.672092   \n",
       "min       -2.560842    -2.578690    -2.715340    -2.653933    -2.764607   \n",
       "25%       -0.128266    -0.347583    -0.848039    -0.024385    -0.520856   \n",
       "50%        0.312582    -0.032810    -0.609035     0.400121    -0.173995   \n",
       "75%        0.767672     0.320134    -0.298858     0.814733     0.161403   \n",
       "max        9.452843     8.861428     6.755588    10.637572     8.499110   \n",
       "\n",
       "           ANP_Q25      ANP_Q75            Y  \n",
       "count  3448.000000  3448.000000  3448.000000  \n",
       "mean     -0.732287     0.216978     0.513341  \n",
       "std       0.537242     0.833693     0.499894  \n",
       "min      -2.900619    -2.789524     0.000000  \n",
       "25%      -0.980574    -0.246728     0.000000  \n",
       "50%      -0.727626     0.243791     1.000000  \n",
       "75%      -0.474086     0.674996     1.000000  \n",
       "max       6.395511    10.192488     1.000000  \n",
       "\n",
       "[8 rows x 58 columns]"
      ]
     },
     "execution_count": 6,
     "metadata": {},
     "output_type": "execute_result"
    }
   ],
   "source": [
    "df.drop(['Day', 'TimeS'], axis=1).describe()"
   ]
  },
  {
   "cell_type": "markdown",
   "metadata": {
    "papermill": {
     "duration": 0.006966,
     "end_time": "2020-07-01T10:23:56.284680",
     "exception": false,
     "start_time": "2020-07-01T10:23:56.277714",
     "status": "completed"
    },
    "tags": []
   },
   "source": [
    "# Get Sampling Info for All of Subjects - Is it consistent?"
   ]
  },
  {
   "cell_type": "code",
   "execution_count": 7,
   "metadata": {
    "execution": {
     "iopub.execute_input": "2020-07-01T10:23:56.310225Z",
     "iopub.status.busy": "2020-07-01T10:23:56.309814Z",
     "iopub.status.idle": "2020-07-01T10:23:57.921298Z",
     "shell.execute_reply": "2020-07-01T10:23:57.920903Z"
    },
    "papermill": {
     "duration": 1.629714,
     "end_time": "2020-07-01T10:23:57.921362",
     "exception": false,
     "start_time": "2020-07-01T10:23:56.291648",
     "status": "completed"
    },
    "tags": []
   },
   "outputs": [
    {
     "data": {
      "image/png": "[encoded data removed]",
      "text/plain": [
       "<Figure size 864x288 with 2 Axes>"
      ]
     },
     "metadata": {
      "needs_background": "light"
     },
     "output_type": "display_data"
    },
    {
     "data": {
      "image/png": "[encoded data removed]",
      "text/plain": [
       "<Figure size 864x288 with 2 Axes>"
      ]
     },
     "metadata": {
      "needs_background": "light"
     },
     "output_type": "display_data"
    },
    {
     "data": {
      "image/png": "[encoded data removed]",
      "text/plain": [
       "<Figure size 864x288 with 2 Axes>"
      ]
     },
     "metadata": {
      "needs_background": "light"
     },
     "output_type": "display_data"
    },
    {
     "data": {
      "image/png": "[encoded data removed]",
      "text/plain": [
       "<Figure size 864x288 with 2 Axes>"
      ]
     },
     "metadata": {
      "needs_background": "light"
     },
     "output_type": "display_data"
    },
    {
     "data": {
      "image/png": "[encoded data removed]",
      "text/plain": [
       "<Figure size 864x288 with 2 Axes>"
      ]
     },
     "metadata": {
      "needs_background": "light"
     },
     "output_type": "display_data"
    }
   ],
   "source": [
    "def sampling_analysis(subject):\n",
    "    df_subj = df[df['SubjectName'] == subject]\n",
    "\n",
    "    fig, ax = plt.subplots(1, 2, figsize=(12, 4))\n",
    "\n",
    "    num_days = len(np.unique(df_subj['Day']))\n",
    "    first_exposed = df_subj.loc[df_subj.Y == 1]['TimeS'].to_list()[0]\n",
    "    df_subj.plot(x='TimeS', y='Day', color='black', legend=False, subplots=True, ax=ax[0], rot=90)\n",
    "    ax[0].plot([first_exposed, first_exposed], [0, num_days], lw=6, alpha=0.4, ls='--')\n",
    "    ax[0].set_title(\"Days of Study, Reset at Exposure Period\", fontsize=11)\n",
    "\n",
    "    sampling_freqs = []\n",
    "    exposed = []\n",
    "    days = []\n",
    "\n",
    "    for i in range(0, 2):\n",
    "        for day in np.unique(df_subj.Day):\n",
    "            num_obvs = len(df_subj.loc[df_subj.Y == i]\n",
    "            .loc[df_subj.Day == day])\n",
    "            days.append(day)\n",
    "            exposed.append(i)\n",
    "            sampling_freqs.append(num_obvs)\n",
    "\n",
    "    sampling_freqs = pd.DataFrame(list(zip(days, exposed, sampling_freqs)), columns=['Day', 'Exposed', 'Sampling Frequency'])\n",
    "    sampling_freqs = sampling_freqs[sampling_freqs['Sampling Frequency'] != 0]\n",
    "\n",
    "    sampling_freqs.plot(y='Sampling Frequency', legend=False, color='black', subplots=True, ax=ax[1])\n",
    "    exposed_start = sampling_freqs.loc[sampling_freqs['Exposed'] == 1].index[0]\n",
    "    ax[1].plot([exposed_start, exposed_start], [0, max(sampling_freqs['Sampling Frequency'] + 5)], lw=4, alpha=0.4, ls='--')\n",
    "    plt.xticks(rotation=90)\n",
    "    plt.xlabel('Number of Days into Study')\n",
    "    ax[1].set_title('Sampling Frequency Over Study on ' + subject, fontsize=11)\n",
    "\n",
    "subjects = list(np.unique(df['SubjectName']))\n",
    "for subject in subjects:\n",
    "    sampling_analysis(subject)"
   ]
  },
  {
   "cell_type": "code",
   "execution_count": 8,
   "metadata": {
    "execution": {
     "iopub.execute_input": "2020-07-01T10:23:57.960806Z",
     "iopub.status.busy": "2020-07-01T10:23:57.954221Z",
     "iopub.status.idle": "2020-07-01T10:23:57.963215Z",
     "shell.execute_reply": "2020-07-01T10:23:57.962807Z"
    },
    "papermill": {
     "duration": 0.032258,
     "end_time": "2020-07-01T10:23:57.963281",
     "exception": false,
     "start_time": "2020-07-01T10:23:57.931023",
     "status": "completed"
    },
    "tags": []
   },
   "outputs": [
    {
     "data": {
      "text/html": [
       "<div>\n",
       "<style scoped>\n",
       "    .dataframe tbody tr th:only-of-type {\n",
       "        vertical-align: middle;\n",
       "    }\n",
       "\n",
       "    .dataframe tbody tr th {\n",
       "        vertical-align: top;\n",
       "    }\n",
       "\n",
       "    .dataframe thead th {\n",
       "        text-align: right;\n",
       "    }\n",
       "</style>\n",
       "<table border=\"1\" class=\"dataframe\">\n",
       "  <thead>\n",
       "    <tr style=\"text-align: right;\">\n",
       "      <th></th>\n",
       "      <th>Num_TimeS</th>\n",
       "      <th>TimeS_Exposed</th>\n",
       "      <th>StudyProgress_Exposed</th>\n",
       "    </tr>\n",
       "    <tr>\n",
       "      <th>SubjectName</th>\n",
       "      <th></th>\n",
       "      <th></th>\n",
       "      <th></th>\n",
       "    </tr>\n",
       "  </thead>\n",
       "  <tbody>\n",
       "    <tr>\n",
       "      <th>mra001</th>\n",
       "      <td>1267200</td>\n",
       "      <td>604800</td>\n",
       "      <td>0.477273</td>\n",
       "    </tr>\n",
       "    <tr>\n",
       "      <th>mra002</th>\n",
       "      <td>1267200</td>\n",
       "      <td>604800</td>\n",
       "      <td>0.477273</td>\n",
       "    </tr>\n",
       "    <tr>\n",
       "      <th>mra003</th>\n",
       "      <td>1231200</td>\n",
       "      <td>604800</td>\n",
       "      <td>0.491228</td>\n",
       "    </tr>\n",
       "    <tr>\n",
       "      <th>mra004</th>\n",
       "      <td>1236600</td>\n",
       "      <td>604800</td>\n",
       "      <td>0.489083</td>\n",
       "    </tr>\n",
       "    <tr>\n",
       "      <th>mra005</th>\n",
       "      <td>1209600</td>\n",
       "      <td>604800</td>\n",
       "      <td>0.500000</td>\n",
       "    </tr>\n",
       "  </tbody>\n",
       "</table>\n",
       "</div>"
      ],
      "text/plain": [
       "             Num_TimeS  TimeS_Exposed  StudyProgress_Exposed\n",
       "SubjectName                                                 \n",
       "mra001         1267200         604800               0.477273\n",
       "mra002         1267200         604800               0.477273\n",
       "mra003         1231200         604800               0.491228\n",
       "mra004         1236600         604800               0.489083\n",
       "mra005         1209600         604800               0.500000"
      ]
     },
     "execution_count": 8,
     "metadata": {},
     "output_type": "execute_result"
    }
   ],
   "source": [
    "time_steps = []\n",
    "exposed_at = []\n",
    "\n",
    "for subject in subjects:\n",
    "    time_steps.append(max(df[df['SubjectName'] == subject]['TimeS']))\n",
    "    exposed_at.append(min(df[(df['SubjectName'] == subject) & (df['Y'] == 1)]['TimeS']))\n",
    "\n",
    "exposed_when = [i / j for i, j in zip(exposed_at, time_steps)]\n",
    "\n",
    "length_exposed_df = pd.DataFrame(list(zip(subjects, time_steps, exposed_at, exposed_when)), columns=['SubjectName', 'Num_TimeS', 'TimeS_Exposed', 'StudyProgress_Exposed'])\n",
    "length_exposed_df = length_exposed_df.set_index('SubjectName')\n",
    "length_exposed_df"
   ]
  },
  {
   "cell_type": "code",
   "execution_count": 9,
   "metadata": {
    "execution": {
     "iopub.execute_input": "2020-07-01T10:23:57.994269Z",
     "iopub.status.busy": "2020-07-01T10:23:57.993830Z",
     "iopub.status.idle": "2020-07-01T10:23:57.996386Z",
     "shell.execute_reply": "2020-07-01T10:23:57.995965Z"
    },
    "papermill": {
     "duration": 0.02382,
     "end_time": "2020-07-01T10:23:57.996451",
     "exception": false,
     "start_time": "2020-07-01T10:23:57.972631",
     "status": "completed"
    },
    "tags": []
   },
   "outputs": [
    {
     "data": {
      "text/html": [
       "<div>\n",
       "<style scoped>\n",
       "    .dataframe tbody tr th:only-of-type {\n",
       "        vertical-align: middle;\n",
       "    }\n",
       "\n",
       "    .dataframe tbody tr th {\n",
       "        vertical-align: top;\n",
       "    }\n",
       "\n",
       "    .dataframe thead th {\n",
       "        text-align: right;\n",
       "    }\n",
       "</style>\n",
       "<table border=\"1\" class=\"dataframe\">\n",
       "  <thead>\n",
       "    <tr style=\"text-align: right;\">\n",
       "      <th></th>\n",
       "      <th>Num_TimeS</th>\n",
       "      <th>TimeS_Exposed</th>\n",
       "      <th>StudyProgress_Exposed</th>\n",
       "    </tr>\n",
       "  </thead>\n",
       "  <tbody>\n",
       "    <tr>\n",
       "      <th>count</th>\n",
       "      <td>5.000000e+00</td>\n",
       "      <td>5.0</td>\n",
       "      <td>5.000000</td>\n",
       "    </tr>\n",
       "    <tr>\n",
       "      <th>mean</th>\n",
       "      <td>1.242360e+06</td>\n",
       "      <td>604800.0</td>\n",
       "      <td>0.486971</td>\n",
       "    </tr>\n",
       "    <tr>\n",
       "      <th>std</th>\n",
       "      <td>2.482434e+04</td>\n",
       "      <td>0.0</td>\n",
       "      <td>0.009753</td>\n",
       "    </tr>\n",
       "    <tr>\n",
       "      <th>min</th>\n",
       "      <td>1.209600e+06</td>\n",
       "      <td>604800.0</td>\n",
       "      <td>0.477273</td>\n",
       "    </tr>\n",
       "    <tr>\n",
       "      <th>25%</th>\n",
       "      <td>1.231200e+06</td>\n",
       "      <td>604800.0</td>\n",
       "      <td>0.477273</td>\n",
       "    </tr>\n",
       "    <tr>\n",
       "      <th>50%</th>\n",
       "      <td>1.236600e+06</td>\n",
       "      <td>604800.0</td>\n",
       "      <td>0.489083</td>\n",
       "    </tr>\n",
       "    <tr>\n",
       "      <th>75%</th>\n",
       "      <td>1.267200e+06</td>\n",
       "      <td>604800.0</td>\n",
       "      <td>0.491228</td>\n",
       "    </tr>\n",
       "    <tr>\n",
       "      <th>max</th>\n",
       "      <td>1.267200e+06</td>\n",
       "      <td>604800.0</td>\n",
       "      <td>0.500000</td>\n",
       "    </tr>\n",
       "  </tbody>\n",
       "</table>\n",
       "</div>"
      ],
      "text/plain": [
       "          Num_TimeS  TimeS_Exposed  StudyProgress_Exposed\n",
       "count  5.000000e+00            5.0               5.000000\n",
       "mean   1.242360e+06       604800.0               0.486971\n",
       "std    2.482434e+04            0.0               0.009753\n",
       "min    1.209600e+06       604800.0               0.477273\n",
       "25%    1.231200e+06       604800.0               0.477273\n",
       "50%    1.236600e+06       604800.0               0.489083\n",
       "75%    1.267200e+06       604800.0               0.491228\n",
       "max    1.267200e+06       604800.0               0.500000"
      ]
     },
     "execution_count": 9,
     "metadata": {},
     "output_type": "execute_result"
    }
   ],
   "source": [
    "length_exposed_df.describe()"
   ]
  },
  {
   "cell_type": "code",
   "execution_count": 10,
   "metadata": {
    "execution": {
     "iopub.execute_input": "2020-07-01T10:23:58.021245Z",
     "iopub.status.busy": "2020-07-01T10:23:58.020860Z",
     "iopub.status.idle": "2020-07-01T10:23:58.193197Z",
     "shell.execute_reply": "2020-07-01T10:23:58.193581Z"
    },
    "papermill": {
     "duration": 0.187687,
     "end_time": "2020-07-01T10:23:58.193666",
     "exception": false,
     "start_time": "2020-07-01T10:23:58.005979",
     "status": "completed"
    },
    "tags": []
   },
   "outputs": [
    {
     "data": {
      "text/plain": [
       "Text(0.5, 1.0, '# of Timesteps and Exposure Point for Each Subject')"
      ]
     },
     "execution_count": 10,
     "metadata": {},
     "output_type": "execute_result"
    },
    {
     "data": {
      "image/png": "[encoded data removed]",
      "text/plain": [
       "<Figure size 432x288 with 1 Axes>"
      ]
     },
     "metadata": {
      "needs_background": "light"
     },
     "output_type": "display_data"
    }
   ],
   "source": [
    "length_exposed_df.plot(y=['Num_TimeS', 'TimeS_Exposed'], kind='bar')\n",
    "plt.ylabel('# of Timesteps')\n",
    "plt.title('# of Timesteps and Exposure Point for Each Subject')\n"
   ]
  },
  {
   "cell_type": "code",
   "execution_count": null,
   "metadata": {
    "papermill": {
     "duration": 0.010287,
     "end_time": "2020-07-01T10:23:58.214926",
     "exception": false,
     "start_time": "2020-07-01T10:23:58.204639",
     "status": "completed"
    },
    "tags": []
   },
   "outputs": [],
   "source": []
  },
  {
   "cell_type": "code",
   "execution_count": null,
   "metadata": {
    "papermill": {
     "duration": 0.009602,
     "end_time": "2020-07-01T10:23:58.234177",
     "exception": false,
     "start_time": "2020-07-01T10:23:58.224575",
     "status": "completed"
    },
    "tags": []
   },
   "outputs": [],
   "source": []
  }
 ],
 "metadata": {
  "celltoolbar": "Tags",
  "file_extension": ".py",
  "kernelspec": {
   "display_name": "Python 3.7.6 64-bit",
   "language": "python",
   "name": "python37664bit428820946cd7473d8a76804ffe0f7c21"
  },
  "language_info": {
   "codemirror_mode": {
    "name": "ipython",
    "version": 3
   },
   "file_extension": ".py",
   "mimetype": "text/x-python",
   "name": "python",
   "nbconvert_exporter": "python",
   "pygments_lexer": "ipython3",
   "version": "3.7.6"
  },
  "mimetype": "text/x-python",
  "name": "python",
  "npconvert_exporter": "python",
  "papermill": {
   "duration": 3.905155,
   "end_time": "2020-07-01T10:23:58.560990",
   "environment_variables": {},
   "exception": null,
   "input_path": "sampling_exploration/sampling_analysis.ipynb",
   "output_path": "sampling_exploration/marv_rhes_aero_analysis.ipynb",
   "parameters": {
    "csv": "MARV-Rhesus-Aero.csv-Table 1.csv"
   },
   "start_time": "2020-07-01T10:23:54.655835",
   "version": "2.1.2"
  },
  "pygments_lexer": "ipython3",
  "version": 3
 },
 "nbformat": 4,
 "nbformat_minor": 4
}