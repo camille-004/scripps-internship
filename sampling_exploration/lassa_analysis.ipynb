{
 "cells": [
  {
   "cell_type": "code",
   "execution_count": 1,
   "metadata": {
    "execution": {
     "iopub.execute_input": "2020-07-01T10:23:45.907508Z",
     "iopub.status.busy": "2020-07-01T10:23:45.906931Z",
     "iopub.status.idle": "2020-07-01T10:23:46.577335Z",
     "shell.execute_reply": "2020-07-01T10:23:46.577945Z"
    },
    "papermill": {
     "duration": 0.686439,
     "end_time": "2020-07-01T10:23:46.578083",
     "exception": false,
     "start_time": "2020-07-01T10:23:45.891644",
     "status": "completed"
    },
    "tags": []
   },
   "outputs": [],
   "source": [
    "import pandas as pd\n",
    "import numpy as np\n",
    "import matplotlib.pyplot as plt\n",
    "import seaborn as sns\n",
    "\n",
    "plt.style.use('seaborn-whitegrid')"
   ]
  },
  {
   "cell_type": "code",
   "execution_count": 2,
   "metadata": {
    "execution": {
     "iopub.execute_input": "2020-07-01T10:23:46.599774Z",
     "iopub.status.busy": "2020-07-01T10:23:46.599318Z",
     "iopub.status.idle": "2020-07-01T10:23:46.601409Z",
     "shell.execute_reply": "2020-07-01T10:23:46.600948Z"
    },
    "papermill": {
     "duration": 0.013116,
     "end_time": "2020-07-01T10:23:46.601480",
     "exception": false,
     "start_time": "2020-07-01T10:23:46.588364",
     "status": "completed"
    },
    "tags": []
   },
   "outputs": [],
   "source": [
    "csv = 'EBOV-Cyno-Aero-1.csv-Table 1.csv'"
   ]
  },
  {
   "cell_type": "code",
   "execution_count": 3,
   "metadata": {
    "execution": {
     "iopub.execute_input": "2020-07-01T10:23:46.639436Z",
     "iopub.status.busy": "2020-07-01T10:23:46.638983Z",
     "iopub.status.idle": "2020-07-01T10:23:46.641186Z",
     "shell.execute_reply": "2020-07-01T10:23:46.640719Z"
    },
    "papermill": {
     "duration": 0.012159,
     "end_time": "2020-07-01T10:23:46.641261",
     "exception": false,
     "start_time": "2020-07-01T10:23:46.629102",
     "status": "completed"
    },
    "tags": [
     "injected-parameters"
    ]
   },
   "outputs": [],
   "source": [
    "# Parameters\n",
    "csv = \"LASSA-Cyno-Aero.csv-Table 1.csv\"\n"
   ]
  },
  {
   "cell_type": "code",
   "execution_count": 4,
   "metadata": {
    "execution": {
     "iopub.execute_input": "2020-07-01T10:23:46.671790Z",
     "iopub.status.busy": "2020-07-01T10:23:46.671258Z",
     "iopub.status.idle": "2020-07-01T10:23:46.726328Z",
     "shell.execute_reply": "2020-07-01T10:23:46.726702Z"
    },
    "papermill": {
     "duration": 0.078501,
     "end_time": "2020-07-01T10:23:46.726803",
     "exception": false,
     "start_time": "2020-07-01T10:23:46.648302",
     "status": "completed"
    },
    "tags": []
   },
   "outputs": [
    {
     "data": {
      "text/html": [
       "<div>\n",
       "<style scoped>\n",
       "    .dataframe tbody tr th:only-of-type {\n",
       "        vertical-align: middle;\n",
       "    }\n",
       "\n",
       "    .dataframe tbody tr th {\n",
       "        vertical-align: top;\n",
       "    }\n",
       "\n",
       "    .dataframe thead th {\n",
       "        text-align: right;\n",
       "    }\n",
       "</style>\n",
       "<table border=\"1\" class=\"dataframe\">\n",
       "  <thead>\n",
       "    <tr style=\"text-align: right;\">\n",
       "      <th></th>\n",
       "      <th>Day</th>\n",
       "      <th>Time</th>\n",
       "      <th>TimeS</th>\n",
       "      <th>Study</th>\n",
       "      <th>SubjectName</th>\n",
       "      <th>AOPSystolic_Mean</th>\n",
       "      <th>AOPSystolic_Q25</th>\n",
       "      <th>AOPSystolic_Q75</th>\n",
       "      <th>AOPDiastolic_Mean</th>\n",
       "      <th>AOPDiastolic_Q25</th>\n",
       "      <th>...</th>\n",
       "      <th>ITPDepth_Mean</th>\n",
       "      <th>ITPDepth_Q25</th>\n",
       "      <th>ITPDepth_Q75</th>\n",
       "      <th>APP_Mean</th>\n",
       "      <th>APP_Q25</th>\n",
       "      <th>APP_Q75</th>\n",
       "      <th>ANP_Mean</th>\n",
       "      <th>ANP_Q25</th>\n",
       "      <th>ANP_Q75</th>\n",
       "      <th>Y</th>\n",
       "    </tr>\n",
       "  </thead>\n",
       "  <tbody>\n",
       "    <tr>\n",
       "      <th>0</th>\n",
       "      <td>0</td>\n",
       "      <td>13:52</td>\n",
       "      <td>0</td>\n",
       "      <td>LASSA-Cyno-Aero</td>\n",
       "      <td>l001</td>\n",
       "      <td>0.087513</td>\n",
       "      <td>-0.336122</td>\n",
       "      <td>0.491862</td>\n",
       "      <td>0.556260</td>\n",
       "      <td>0.237223</td>\n",
       "      <td>...</td>\n",
       "      <td>1.350818</td>\n",
       "      <td>0.416315</td>\n",
       "      <td>2.173102</td>\n",
       "      <td>0.959471</td>\n",
       "      <td>0.066705</td>\n",
       "      <td>1.616972</td>\n",
       "      <td>0.880058</td>\n",
       "      <td>0.202099</td>\n",
       "      <td>1.484230</td>\n",
       "      <td>0</td>\n",
       "    </tr>\n",
       "    <tr>\n",
       "      <th>1</th>\n",
       "      <td>0</td>\n",
       "      <td>14:22</td>\n",
       "      <td>1800</td>\n",
       "      <td>LASSA-Cyno-Aero</td>\n",
       "      <td>l001</td>\n",
       "      <td>0.437763</td>\n",
       "      <td>-0.036497</td>\n",
       "      <td>0.868193</td>\n",
       "      <td>0.705373</td>\n",
       "      <td>0.395853</td>\n",
       "      <td>...</td>\n",
       "      <td>1.248451</td>\n",
       "      <td>0.298061</td>\n",
       "      <td>2.095527</td>\n",
       "      <td>0.757423</td>\n",
       "      <td>-0.143992</td>\n",
       "      <td>1.556866</td>\n",
       "      <td>0.706500</td>\n",
       "      <td>-0.229216</td>\n",
       "      <td>1.361406</td>\n",
       "      <td>0</td>\n",
       "    </tr>\n",
       "    <tr>\n",
       "      <th>2</th>\n",
       "      <td>0</td>\n",
       "      <td>14:52</td>\n",
       "      <td>3600</td>\n",
       "      <td>LASSA-Cyno-Aero</td>\n",
       "      <td>l001</td>\n",
       "      <td>0.336421</td>\n",
       "      <td>-0.080943</td>\n",
       "      <td>0.659635</td>\n",
       "      <td>0.660000</td>\n",
       "      <td>0.339820</td>\n",
       "      <td>...</td>\n",
       "      <td>0.491026</td>\n",
       "      <td>-0.039513</td>\n",
       "      <td>0.960373</td>\n",
       "      <td>0.432122</td>\n",
       "      <td>-0.153513</td>\n",
       "      <td>0.988895</td>\n",
       "      <td>0.456943</td>\n",
       "      <td>-0.106924</td>\n",
       "      <td>0.976564</td>\n",
       "      <td>0</td>\n",
       "    </tr>\n",
       "    <tr>\n",
       "      <th>3</th>\n",
       "      <td>1</td>\n",
       "      <td>15:22</td>\n",
       "      <td>5400</td>\n",
       "      <td>LASSA-Cyno-Aero</td>\n",
       "      <td>l001</td>\n",
       "      <td>0.613933</td>\n",
       "      <td>0.157726</td>\n",
       "      <td>1.031862</td>\n",
       "      <td>0.957821</td>\n",
       "      <td>0.579937</td>\n",
       "      <td>...</td>\n",
       "      <td>0.094897</td>\n",
       "      <td>-0.687668</td>\n",
       "      <td>0.723595</td>\n",
       "      <td>-0.019186</td>\n",
       "      <td>-0.747569</td>\n",
       "      <td>0.573757</td>\n",
       "      <td>-0.054394</td>\n",
       "      <td>-0.726180</td>\n",
       "      <td>0.426623</td>\n",
       "      <td>0</td>\n",
       "    </tr>\n",
       "    <tr>\n",
       "      <th>4</th>\n",
       "      <td>1</td>\n",
       "      <td>15:52</td>\n",
       "      <td>7200</td>\n",
       "      <td>LASSA-Cyno-Aero</td>\n",
       "      <td>l001</td>\n",
       "      <td>0.798133</td>\n",
       "      <td>0.168430</td>\n",
       "      <td>1.368037</td>\n",
       "      <td>1.128514</td>\n",
       "      <td>0.659909</td>\n",
       "      <td>...</td>\n",
       "      <td>0.236108</td>\n",
       "      <td>-0.607516</td>\n",
       "      <td>0.847023</td>\n",
       "      <td>0.059749</td>\n",
       "      <td>-0.646369</td>\n",
       "      <td>0.579064</td>\n",
       "      <td>-0.002684</td>\n",
       "      <td>-0.688213</td>\n",
       "      <td>0.514367</td>\n",
       "      <td>0</td>\n",
       "    </tr>\n",
       "  </tbody>\n",
       "</table>\n",
       "<p>5 rows × 63 columns</p>\n",
       "</div>"
      ],
      "text/plain": [
       "   Day   Time  TimeS            Study SubjectName  AOPSystolic_Mean  \\\n",
       "0    0  13:52      0  LASSA-Cyno-Aero        l001          0.087513   \n",
       "1    0  14:22   1800  LASSA-Cyno-Aero        l001          0.437763   \n",
       "2    0  14:52   3600  LASSA-Cyno-Aero        l001          0.336421   \n",
       "3    1  15:22   5400  LASSA-Cyno-Aero        l001          0.613933   \n",
       "4    1  15:52   7200  LASSA-Cyno-Aero        l001          0.798133   \n",
       "\n",
       "   AOPSystolic_Q25  AOPSystolic_Q75  AOPDiastolic_Mean  AOPDiastolic_Q25  ...  \\\n",
       "0        -0.336122         0.491862           0.556260          0.237223  ...   \n",
       "1        -0.036497         0.868193           0.705373          0.395853  ...   \n",
       "2        -0.080943         0.659635           0.660000          0.339820  ...   \n",
       "3         0.157726         1.031862           0.957821          0.579937  ...   \n",
       "4         0.168430         1.368037           1.128514          0.659909  ...   \n",
       "\n",
       "   ITPDepth_Mean  ITPDepth_Q25  ITPDepth_Q75  APP_Mean   APP_Q25   APP_Q75  \\\n",
       "0       1.350818      0.416315      2.173102  0.959471  0.066705  1.616972   \n",
       "1       1.248451      0.298061      2.095527  0.757423 -0.143992  1.556866   \n",
       "2       0.491026     -0.039513      0.960373  0.432122 -0.153513  0.988895   \n",
       "3       0.094897     -0.687668      0.723595 -0.019186 -0.747569  0.573757   \n",
       "4       0.236108     -0.607516      0.847023  0.059749 -0.646369  0.579064   \n",
       "\n",
       "   ANP_Mean   ANP_Q25   ANP_Q75  Y  \n",
       "0  0.880058  0.202099  1.484230  0  \n",
       "1  0.706500 -0.229216  1.361406  0  \n",
       "2  0.456943 -0.106924  0.976564  0  \n",
       "3 -0.054394 -0.726180  0.426623  0  \n",
       "4 -0.002684 -0.688213  0.514367  0  \n",
       "\n",
       "[5 rows x 63 columns]"
      ]
     },
     "execution_count": 4,
     "metadata": {},
     "output_type": "execute_result"
    }
   ],
   "source": [
    "df = pd.read_csv('~/Desktop/MachineLearningPython/scripps-data/' + csv)\n",
    "df.head(5)"
   ]
  },
  {
   "cell_type": "markdown",
   "metadata": {
    "papermill": {
     "duration": 0.007616,
     "end_time": "2020-07-01T10:23:46.742722",
     "exception": false,
     "start_time": "2020-07-01T10:23:46.735106",
     "status": "completed"
    },
    "tags": []
   },
   "source": [
    "# Get Summary Statistics"
   ]
  },
  {
   "cell_type": "code",
   "execution_count": 5,
   "metadata": {
    "execution": {
     "iopub.execute_input": "2020-07-01T10:23:46.771767Z",
     "iopub.status.busy": "2020-07-01T10:23:46.771363Z",
     "iopub.status.idle": "2020-07-01T10:23:46.878142Z",
     "shell.execute_reply": "2020-07-01T10:23:46.877736Z"
    },
    "papermill": {
     "duration": 0.128381,
     "end_time": "2020-07-01T10:23:46.878208",
     "exception": false,
     "start_time": "2020-07-01T10:23:46.749827",
     "status": "completed"
    },
    "tags": []
   },
   "outputs": [
    {
     "data": {
      "text/html": [
       "<div>\n",
       "<style scoped>\n",
       "    .dataframe tbody tr th:only-of-type {\n",
       "        vertical-align: middle;\n",
       "    }\n",
       "\n",
       "    .dataframe tbody tr th {\n",
       "        vertical-align: top;\n",
       "    }\n",
       "\n",
       "    .dataframe thead th {\n",
       "        text-align: right;\n",
       "    }\n",
       "</style>\n",
       "<table border=\"1\" class=\"dataframe\">\n",
       "  <thead>\n",
       "    <tr style=\"text-align: right;\">\n",
       "      <th></th>\n",
       "      <th>AOPSystolic_Mean</th>\n",
       "      <th>AOPSystolic_Q25</th>\n",
       "      <th>AOPSystolic_Q75</th>\n",
       "      <th>AOPDiastolic_Mean</th>\n",
       "      <th>AOPDiastolic_Q25</th>\n",
       "      <th>AOPDiastolic_Q75</th>\n",
       "      <th>RespMean_Mean</th>\n",
       "      <th>RespMean_Q25</th>\n",
       "      <th>RespMean_Q75</th>\n",
       "      <th>Temp_Mean</th>\n",
       "      <th>...</th>\n",
       "      <th>ITPDepth_Mean</th>\n",
       "      <th>ITPDepth_Q25</th>\n",
       "      <th>ITPDepth_Q75</th>\n",
       "      <th>APP_Mean</th>\n",
       "      <th>APP_Q25</th>\n",
       "      <th>APP_Q75</th>\n",
       "      <th>ANP_Mean</th>\n",
       "      <th>ANP_Q25</th>\n",
       "      <th>ANP_Q75</th>\n",
       "      <th>Y</th>\n",
       "    </tr>\n",
       "  </thead>\n",
       "  <tbody>\n",
       "    <tr>\n",
       "      <th>count</th>\n",
       "      <td>4648.000000</td>\n",
       "      <td>4648.000000</td>\n",
       "      <td>4648.000000</td>\n",
       "      <td>4648.000000</td>\n",
       "      <td>4648.000000</td>\n",
       "      <td>4648.000000</td>\n",
       "      <td>4648.000000</td>\n",
       "      <td>4648.000000</td>\n",
       "      <td>4648.000000</td>\n",
       "      <td>4648.000000</td>\n",
       "      <td>...</td>\n",
       "      <td>4648.000000</td>\n",
       "      <td>4648.000000</td>\n",
       "      <td>4648.000000</td>\n",
       "      <td>4648.000000</td>\n",
       "      <td>4648.000000</td>\n",
       "      <td>4648.000000</td>\n",
       "      <td>4648.000000</td>\n",
       "      <td>4648.000000</td>\n",
       "      <td>4648.000000</td>\n",
       "      <td>4648.000000</td>\n",
       "    </tr>\n",
       "    <tr>\n",
       "      <th>mean</th>\n",
       "      <td>-0.694436</td>\n",
       "      <td>-1.046390</td>\n",
       "      <td>-0.356494</td>\n",
       "      <td>-0.339979</td>\n",
       "      <td>-0.705405</td>\n",
       "      <td>0.019433</td>\n",
       "      <td>0.790365</td>\n",
       "      <td>0.254417</td>\n",
       "      <td>1.250973</td>\n",
       "      <td>2.304850</td>\n",
       "      <td>...</td>\n",
       "      <td>0.108819</td>\n",
       "      <td>-0.404696</td>\n",
       "      <td>0.493006</td>\n",
       "      <td>0.014047</td>\n",
       "      <td>-0.557649</td>\n",
       "      <td>0.463512</td>\n",
       "      <td>0.013028</td>\n",
       "      <td>-0.565013</td>\n",
       "      <td>0.461030</td>\n",
       "      <td>0.757960</td>\n",
       "    </tr>\n",
       "    <tr>\n",
       "      <th>std</th>\n",
       "      <td>1.117656</td>\n",
       "      <td>1.079772</td>\n",
       "      <td>1.172474</td>\n",
       "      <td>0.888703</td>\n",
       "      <td>0.908177</td>\n",
       "      <td>0.906165</td>\n",
       "      <td>2.353265</td>\n",
       "      <td>2.254852</td>\n",
       "      <td>2.512156</td>\n",
       "      <td>4.467582</td>\n",
       "      <td>...</td>\n",
       "      <td>1.340879</td>\n",
       "      <td>1.209581</td>\n",
       "      <td>1.530383</td>\n",
       "      <td>1.054452</td>\n",
       "      <td>0.866545</td>\n",
       "      <td>1.304162</td>\n",
       "      <td>1.091227</td>\n",
       "      <td>0.865586</td>\n",
       "      <td>1.367912</td>\n",
       "      <td>0.428364</td>\n",
       "    </tr>\n",
       "    <tr>\n",
       "      <th>min</th>\n",
       "      <td>-5.395446</td>\n",
       "      <td>-5.814494</td>\n",
       "      <td>-5.020627</td>\n",
       "      <td>-4.077971</td>\n",
       "      <td>-7.423413</td>\n",
       "      <td>-3.427202</td>\n",
       "      <td>-3.641613</td>\n",
       "      <td>-4.280106</td>\n",
       "      <td>-3.380547</td>\n",
       "      <td>-17.613714</td>\n",
       "      <td>...</td>\n",
       "      <td>-3.103233</td>\n",
       "      <td>-3.339036</td>\n",
       "      <td>-2.948634</td>\n",
       "      <td>-3.264506</td>\n",
       "      <td>-3.413926</td>\n",
       "      <td>-3.194240</td>\n",
       "      <td>-3.267413</td>\n",
       "      <td>-3.378976</td>\n",
       "      <td>-3.174012</td>\n",
       "      <td>0.000000</td>\n",
       "    </tr>\n",
       "    <tr>\n",
       "      <th>25%</th>\n",
       "      <td>-1.360249</td>\n",
       "      <td>-1.662301</td>\n",
       "      <td>-1.079580</td>\n",
       "      <td>-0.850813</td>\n",
       "      <td>-1.224272</td>\n",
       "      <td>-0.532838</td>\n",
       "      <td>-0.452365</td>\n",
       "      <td>-0.897224</td>\n",
       "      <td>-0.150801</td>\n",
       "      <td>-0.227678</td>\n",
       "      <td>...</td>\n",
       "      <td>-0.526465</td>\n",
       "      <td>-0.937798</td>\n",
       "      <td>-0.288251</td>\n",
       "      <td>-0.520109</td>\n",
       "      <td>-0.960972</td>\n",
       "      <td>-0.250921</td>\n",
       "      <td>-0.529368</td>\n",
       "      <td>-0.950503</td>\n",
       "      <td>-0.278804</td>\n",
       "      <td>1.000000</td>\n",
       "    </tr>\n",
       "    <tr>\n",
       "      <th>50%</th>\n",
       "      <td>-0.602288</td>\n",
       "      <td>-0.919453</td>\n",
       "      <td>-0.309100</td>\n",
       "      <td>-0.299385</td>\n",
       "      <td>-0.665154</td>\n",
       "      <td>0.047460</td>\n",
       "      <td>0.235189</td>\n",
       "      <td>-0.266235</td>\n",
       "      <td>0.692779</td>\n",
       "      <td>1.086217</td>\n",
       "      <td>...</td>\n",
       "      <td>-0.113301</td>\n",
       "      <td>-0.606135</td>\n",
       "      <td>0.218928</td>\n",
       "      <td>-0.085947</td>\n",
       "      <td>-0.640944</td>\n",
       "      <td>0.299630</td>\n",
       "      <td>-0.107035</td>\n",
       "      <td>-0.661900</td>\n",
       "      <td>0.266044</td>\n",
       "      <td>1.000000</td>\n",
       "    </tr>\n",
       "    <tr>\n",
       "      <th>75%</th>\n",
       "      <td>-0.015445</td>\n",
       "      <td>-0.389712</td>\n",
       "      <td>0.338383</td>\n",
       "      <td>0.260644</td>\n",
       "      <td>-0.083248</td>\n",
       "      <td>0.631668</td>\n",
       "      <td>1.302369</td>\n",
       "      <td>0.759967</td>\n",
       "      <td>1.852206</td>\n",
       "      <td>4.051556</td>\n",
       "      <td>...</td>\n",
       "      <td>0.376682</td>\n",
       "      <td>-0.221555</td>\n",
       "      <td>0.857637</td>\n",
       "      <td>0.359740</td>\n",
       "      <td>-0.311527</td>\n",
       "      <td>0.894401</td>\n",
       "      <td>0.349733</td>\n",
       "      <td>-0.339895</td>\n",
       "      <td>0.862016</td>\n",
       "      <td>1.000000</td>\n",
       "    </tr>\n",
       "    <tr>\n",
       "      <th>max</th>\n",
       "      <td>4.789397</td>\n",
       "      <td>4.092407</td>\n",
       "      <td>6.084818</td>\n",
       "      <td>2.847689</td>\n",
       "      <td>2.212626</td>\n",
       "      <td>3.623163</td>\n",
       "      <td>21.841540</td>\n",
       "      <td>21.253992</td>\n",
       "      <td>23.156167</td>\n",
       "      <td>28.416362</td>\n",
       "      <td>...</td>\n",
       "      <td>15.062342</td>\n",
       "      <td>13.672663</td>\n",
       "      <td>16.735116</td>\n",
       "      <td>9.209851</td>\n",
       "      <td>8.014179</td>\n",
       "      <td>10.723560</td>\n",
       "      <td>10.341603</td>\n",
       "      <td>8.925075</td>\n",
       "      <td>12.009152</td>\n",
       "      <td>1.000000</td>\n",
       "    </tr>\n",
       "  </tbody>\n",
       "</table>\n",
       "<p>8 rows × 58 columns</p>\n",
       "</div>"
      ],
      "text/plain": [
       "       AOPSystolic_Mean  AOPSystolic_Q25  AOPSystolic_Q75  AOPDiastolic_Mean  \\\n",
       "count       4648.000000      4648.000000      4648.000000        4648.000000   \n",
       "mean          -0.694436        -1.046390        -0.356494          -0.339979   \n",
       "std            1.117656         1.079772         1.172474           0.888703   \n",
       "min           -5.395446        -5.814494        -5.020627          -4.077971   \n",
       "25%           -1.360249        -1.662301        -1.079580          -0.850813   \n",
       "50%           -0.602288        -0.919453        -0.309100          -0.299385   \n",
       "75%           -0.015445        -0.389712         0.338383           0.260644   \n",
       "max            4.789397         4.092407         6.084818           2.847689   \n",
       "\n",
       "       AOPDiastolic_Q25  AOPDiastolic_Q75  RespMean_Mean  RespMean_Q25  \\\n",
       "count       4648.000000       4648.000000    4648.000000   4648.000000   \n",
       "mean          -0.705405          0.019433       0.790365      0.254417   \n",
       "std            0.908177          0.906165       2.353265      2.254852   \n",
       "min           -7.423413         -3.427202      -3.641613     -4.280106   \n",
       "25%           -1.224272         -0.532838      -0.452365     -0.897224   \n",
       "50%           -0.665154          0.047460       0.235189     -0.266235   \n",
       "75%           -0.083248          0.631668       1.302369      0.759967   \n",
       "max            2.212626          3.623163      21.841540     21.253992   \n",
       "\n",
       "       RespMean_Q75    Temp_Mean  ...  ITPDepth_Mean  ITPDepth_Q25  \\\n",
       "count   4648.000000  4648.000000  ...    4648.000000   4648.000000   \n",
       "mean       1.250973     2.304850  ...       0.108819     -0.404696   \n",
       "std        2.512156     4.467582  ...       1.340879      1.209581   \n",
       "min       -3.380547   -17.613714  ...      -3.103233     -3.339036   \n",
       "25%       -0.150801    -0.227678  ...      -0.526465     -0.937798   \n",
       "50%        0.692779     1.086217  ...      -0.113301     -0.606135   \n",
       "75%        1.852206     4.051556  ...       0.376682     -0.221555   \n",
       "max       23.156167    28.416362  ...      15.062342     13.672663   \n",
       "\n",
       "       ITPDepth_Q75     APP_Mean      APP_Q25      APP_Q75     ANP_Mean  \\\n",
       "count   4648.000000  4648.000000  4648.000000  4648.000000  4648.000000   \n",
       "mean       0.493006     0.014047    -0.557649     0.463512     0.013028   \n",
       "std        1.530383     1.054452     0.866545     1.304162     1.091227   \n",
       "min       -2.948634    -3.264506    -3.413926    -3.194240    -3.267413   \n",
       "25%       -0.288251    -0.520109    -0.960972    -0.250921    -0.529368   \n",
       "50%        0.218928    -0.085947    -0.640944     0.299630    -0.107035   \n",
       "75%        0.857637     0.359740    -0.311527     0.894401     0.349733   \n",
       "max       16.735116     9.209851     8.014179    10.723560    10.341603   \n",
       "\n",
       "           ANP_Q25      ANP_Q75            Y  \n",
       "count  4648.000000  4648.000000  4648.000000  \n",
       "mean     -0.565013     0.461030     0.757960  \n",
       "std       0.865586     1.367912     0.428364  \n",
       "min      -3.378976    -3.174012     0.000000  \n",
       "25%      -0.950503    -0.278804     1.000000  \n",
       "50%      -0.661900     0.266044     1.000000  \n",
       "75%      -0.339895     0.862016     1.000000  \n",
       "max       8.925075    12.009152     1.000000  \n",
       "\n",
       "[8 rows x 58 columns]"
      ]
     },
     "execution_count": 5,
     "metadata": {},
     "output_type": "execute_result"
    }
   ],
   "source": [
    "df.drop(['Day', 'TimeS'], axis=1).describe()"
   ]
  },
  {
   "cell_type": "markdown",
   "metadata": {
    "papermill": {
     "duration": 0.006764,
     "end_time": "2020-07-01T10:23:46.892697",
     "exception": false,
     "start_time": "2020-07-01T10:23:46.885933",
     "status": "completed"
    },
    "tags": []
   },
   "source": [
    "# Get Sampling Info for All of Subjects - Is it consistent?"
   ]
  },
  {
   "cell_type": "code",
   "execution_count": 6,
   "metadata": {
    "execution": {
     "iopub.execute_input": "2020-07-01T10:23:46.920648Z",
     "iopub.status.busy": "2020-07-01T10:23:46.920250Z",
     "iopub.status.idle": "2020-07-01T10:23:48.320267Z",
     "shell.execute_reply": "2020-07-01T10:23:48.319864Z"
    },
    "papermill": {
     "duration": 1.420961,
     "end_time": "2020-07-01T10:23:48.320331",
     "exception": false,
     "start_time": "2020-07-01T10:23:46.899370",
     "status": "completed"
    },
    "tags": []
   },
   "outputs": [
    {
     "data": {
      "image/png": "[encoded data removed]",
      "text/plain": [
       "<Figure size 864x288 with 2 Axes>"
      ]
     },
     "metadata": {
      "needs_background": "light"
     },
     "output_type": "display_data"
    },
    {
     "data": {
      "image/png": "[encoded data removed]",
      "text/plain": [
       "<Figure size 864x288 with 2 Axes>"
      ]
     },
     "metadata": {
      "needs_background": "light"
     },
     "output_type": "display_data"
    },
    {
     "data": {
      "image/png": "[encoded data removed]",
      "text/plain": [
       "<Figure size 864x288 with 2 Axes>"
      ]
     },
     "metadata": {
      "needs_background": "light"
     },
     "output_type": "display_data"
    },
    {
     "data": {
      "image/png": "[encoded data removed]",
      "text/plain": [
       "<Figure size 864x288 with 2 Axes>"
      ]
     },
     "metadata": {
      "needs_background": "light"
     },
     "output_type": "display_data"
    }
   ],
   "source": [
    "def sampling_analysis(subject):\n",
    "    df_subj = df[df['SubjectName'] == subject]\n",
    "\n",
    "    fig, ax = plt.subplots(1, 2, figsize=(12, 4))\n",
    "\n",
    "    num_days = len(np.unique(df_subj['Day']))\n",
    "    first_exposed = df_subj.loc[df_subj.Y == 1]['TimeS'].to_list()[0]\n",
    "    df_subj.plot(x='TimeS', y='Day', color='black', legend=False, subplots=True, ax=ax[0], rot=90)\n",
    "    ax[0].plot([first_exposed, first_exposed], [0, num_days], lw=6, alpha=0.4, ls='--')\n",
    "    ax[0].set_title(\"Days of Study, Reset at Exposure Period\", fontsize=11)\n",
    "\n",
    "    sampling_freqs = []\n",
    "    exposed = []\n",
    "    days = []\n",
    "\n",
    "    for i in range(0, 2):\n",
    "        for day in np.unique(df_subj.Day):\n",
    "            num_obvs = len(df_subj.loc[df_subj.Y == i]\n",
    "            .loc[df_subj.Day == day])\n",
    "            days.append(day)\n",
    "            exposed.append(i)\n",
    "            sampling_freqs.append(num_obvs)\n",
    "\n",
    "    sampling_freqs = pd.DataFrame(list(zip(days, exposed, sampling_freqs)), columns=['Day', 'Exposed', 'Sampling Frequency'])\n",
    "    sampling_freqs = sampling_freqs[sampling_freqs['Sampling Frequency'] != 0]\n",
    "\n",
    "    sampling_freqs.plot(y='Sampling Frequency', legend=False, color='black', subplots=True, ax=ax[1])\n",
    "    exposed_start = sampling_freqs.loc[sampling_freqs['Exposed'] == 1].index[0]\n",
    "    ax[1].plot([exposed_start, exposed_start], [0, max(sampling_freqs['Sampling Frequency'] + 5)], lw=4, alpha=0.4, ls='--')\n",
    "    plt.xticks(rotation=90)\n",
    "    plt.xlabel('Number of Days into Study')\n",
    "    ax[1].set_title('Sampling Frequency Over Study on ' + subject, fontsize=11)\n",
    "\n",
    "subjects = list(np.unique(df['SubjectName']))\n",
    "for subject in subjects:\n",
    "    sampling_analysis(subject)"
   ]
  },
  {
   "cell_type": "markdown",
   "metadata": {},
   "source": [
    "## Observations\n",
    "* Sampling frequencies are a lot more consistent than those in the ebola studies\n",
    "* Total of four subjects. The study for I004 went on MUCH longer than the others. The paper has no explanation of this, trends will need to be observed for this subject\n",
    "* Inconsistency in the starting day among the studies\n",
    "* More data collected after the exposure to the LASSA virus, likely to due with specifics in the symtom manifestation\n",
    "* The frequency for Day 0 is low, but not 0."
   ]
  },
  {
   "cell_type": "code",
   "execution_count": 7,
   "metadata": {
    "execution": {
     "iopub.execute_input": "2020-07-01T10:23:48.358381Z",
     "iopub.status.busy": "2020-07-01T10:23:48.357893Z",
     "iopub.status.idle": "2020-07-01T10:23:48.360118Z",
     "shell.execute_reply": "2020-07-01T10:23:48.360492Z"
    },
    "papermill": {
     "duration": 0.030766,
     "end_time": "2020-07-01T10:23:48.360572",
     "exception": false,
     "start_time": "2020-07-01T10:23:48.329806",
     "status": "completed"
    },
    "tags": []
   },
   "outputs": [
    {
     "data": {
      "text/html": [
       "<div>\n",
       "<style scoped>\n",
       "    .dataframe tbody tr th:only-of-type {\n",
       "        vertical-align: middle;\n",
       "    }\n",
       "\n",
       "    .dataframe tbody tr th {\n",
       "        vertical-align: top;\n",
       "    }\n",
       "\n",
       "    .dataframe thead th {\n",
       "        text-align: right;\n",
       "    }\n",
       "</style>\n",
       "<table border=\"1\" class=\"dataframe\">\n",
       "  <thead>\n",
       "    <tr style=\"text-align: right;\">\n",
       "      <th></th>\n",
       "      <th>Num_TimeS</th>\n",
       "      <th>TimeS_Exposed</th>\n",
       "      <th>StudyProgress_Exposed</th>\n",
       "    </tr>\n",
       "    <tr>\n",
       "      <th>SubjectName</th>\n",
       "      <th></th>\n",
       "      <th></th>\n",
       "      <th></th>\n",
       "    </tr>\n",
       "  </thead>\n",
       "  <tbody>\n",
       "    <tr>\n",
       "      <th>l001</th>\n",
       "      <td>1377000</td>\n",
       "      <td>523800</td>\n",
       "      <td>0.380392</td>\n",
       "    </tr>\n",
       "    <tr>\n",
       "      <th>l002</th>\n",
       "      <td>1627200</td>\n",
       "      <td>525600</td>\n",
       "      <td>0.323009</td>\n",
       "    </tr>\n",
       "    <tr>\n",
       "      <th>l003</th>\n",
       "      <td>1373400</td>\n",
       "      <td>527400</td>\n",
       "      <td>0.384010</td>\n",
       "    </tr>\n",
       "    <tr>\n",
       "      <th>l004</th>\n",
       "      <td>4055400</td>\n",
       "      <td>520200</td>\n",
       "      <td>0.128273</td>\n",
       "    </tr>\n",
       "  </tbody>\n",
       "</table>\n",
       "</div>"
      ],
      "text/plain": [
       "             Num_TimeS  TimeS_Exposed  StudyProgress_Exposed\n",
       "SubjectName                                                 \n",
       "l001           1377000         523800               0.380392\n",
       "l002           1627200         525600               0.323009\n",
       "l003           1373400         527400               0.384010\n",
       "l004           4055400         520200               0.128273"
      ]
     },
     "execution_count": 7,
     "metadata": {},
     "output_type": "execute_result"
    }
   ],
   "source": [
    "time_steps = []\n",
    "exposed_at = []\n",
    "\n",
    "for subject in subjects:\n",
    "    time_steps.append(max(df[df['SubjectName'] == subject]['TimeS']))\n",
    "    exposed_at.append(min(df[(df['SubjectName'] == subject) & (df['Y'] == 1)]['TimeS']))\n",
    "\n",
    "exposed_when = [i / j for i, j in zip(exposed_at, time_steps)]\n",
    "\n",
    "length_exposed_df = pd.DataFrame(list(zip(subjects, time_steps, exposed_at, exposed_when)), columns=['SubjectName', 'Num_TimeS', 'TimeS_Exposed', 'StudyProgress_Exposed'])\n",
    "length_exposed_df = length_exposed_df.set_index('SubjectName')\n",
    "length_exposed_df"
   ]
  },
  {
   "cell_type": "code",
   "execution_count": 8,
   "metadata": {
    "execution": {
     "iopub.execute_input": "2020-07-01T10:23:48.389953Z",
     "iopub.status.busy": "2020-07-01T10:23:48.383691Z",
     "iopub.status.idle": "2020-07-01T10:23:48.392650Z",
     "shell.execute_reply": "2020-07-01T10:23:48.392322Z"
    },
    "papermill": {
     "duration": 0.023253,
     "end_time": "2020-07-01T10:23:48.392717",
     "exception": false,
     "start_time": "2020-07-01T10:23:48.369464",
     "status": "completed"
    },
    "tags": []
   },
   "outputs": [
    {
     "data": {
      "text/html": [
       "<div>\n",
       "<style scoped>\n",
       "    .dataframe tbody tr th:only-of-type {\n",
       "        vertical-align: middle;\n",
       "    }\n",
       "\n",
       "    .dataframe tbody tr th {\n",
       "        vertical-align: top;\n",
       "    }\n",
       "\n",
       "    .dataframe thead th {\n",
       "        text-align: right;\n",
       "    }\n",
       "</style>\n",
       "<table border=\"1\" class=\"dataframe\">\n",
       "  <thead>\n",
       "    <tr style=\"text-align: right;\">\n",
       "      <th></th>\n",
       "      <th>Num_TimeS</th>\n",
       "      <th>TimeS_Exposed</th>\n",
       "      <th>StudyProgress_Exposed</th>\n",
       "    </tr>\n",
       "  </thead>\n",
       "  <tbody>\n",
       "    <tr>\n",
       "      <th>count</th>\n",
       "      <td>4.000000e+00</td>\n",
       "      <td>4.00000</td>\n",
       "      <td>4.000000</td>\n",
       "    </tr>\n",
       "    <tr>\n",
       "      <th>mean</th>\n",
       "      <td>2.108250e+06</td>\n",
       "      <td>524250.00000</td>\n",
       "      <td>0.303921</td>\n",
       "    </tr>\n",
       "    <tr>\n",
       "      <th>std</th>\n",
       "      <td>1.303525e+06</td>\n",
       "      <td>3074.08523</td>\n",
       "      <td>0.120386</td>\n",
       "    </tr>\n",
       "    <tr>\n",
       "      <th>min</th>\n",
       "      <td>1.373400e+06</td>\n",
       "      <td>520200.00000</td>\n",
       "      <td>0.128273</td>\n",
       "    </tr>\n",
       "    <tr>\n",
       "      <th>25%</th>\n",
       "      <td>1.376100e+06</td>\n",
       "      <td>522900.00000</td>\n",
       "      <td>0.274325</td>\n",
       "    </tr>\n",
       "    <tr>\n",
       "      <th>50%</th>\n",
       "      <td>1.502100e+06</td>\n",
       "      <td>524700.00000</td>\n",
       "      <td>0.351701</td>\n",
       "    </tr>\n",
       "    <tr>\n",
       "      <th>75%</th>\n",
       "      <td>2.234250e+06</td>\n",
       "      <td>526050.00000</td>\n",
       "      <td>0.381297</td>\n",
       "    </tr>\n",
       "    <tr>\n",
       "      <th>max</th>\n",
       "      <td>4.055400e+06</td>\n",
       "      <td>527400.00000</td>\n",
       "      <td>0.384010</td>\n",
       "    </tr>\n",
       "  </tbody>\n",
       "</table>\n",
       "</div>"
      ],
      "text/plain": [
       "          Num_TimeS  TimeS_Exposed  StudyProgress_Exposed\n",
       "count  4.000000e+00        4.00000               4.000000\n",
       "mean   2.108250e+06   524250.00000               0.303921\n",
       "std    1.303525e+06     3074.08523               0.120386\n",
       "min    1.373400e+06   520200.00000               0.128273\n",
       "25%    1.376100e+06   522900.00000               0.274325\n",
       "50%    1.502100e+06   524700.00000               0.351701\n",
       "75%    2.234250e+06   526050.00000               0.381297\n",
       "max    4.055400e+06   527400.00000               0.384010"
      ]
     },
     "execution_count": 8,
     "metadata": {},
     "output_type": "execute_result"
    }
   ],
   "source": [
    "length_exposed_df.describe()"
   ]
  },
  {
   "cell_type": "code",
   "execution_count": 9,
   "metadata": {
    "execution": {
     "iopub.execute_input": "2020-07-01T10:23:48.424252Z",
     "iopub.status.busy": "2020-07-01T10:23:48.421953Z",
     "iopub.status.idle": "2020-07-01T10:23:48.598216Z",
     "shell.execute_reply": "2020-07-01T10:23:48.597814Z"
    },
    "papermill": {
     "duration": 0.194406,
     "end_time": "2020-07-01T10:23:48.598281",
     "exception": false,
     "start_time": "2020-07-01T10:23:48.403875",
     "status": "completed"
    },
    "tags": []
   },
   "outputs": [
    {
     "data": {
      "text/plain": [
       "Text(0.5, 1.0, '# of Timesteps and Exposure Point for Each Subject')"
      ]
     },
     "execution_count": 9,
     "metadata": {},
     "output_type": "execute_result"
    },
    {
     "data": {
      "image/png": "[encoded data removed]",
      "text/plain": [
       "<Figure size 432x288 with 1 Axes>"
      ]
     },
     "metadata": {
      "needs_background": "light"
     },
     "output_type": "display_data"
    }
   ],
   "source": [
    "length_exposed_df.plot(y=['Num_TimeS', 'TimeS_Exposed'], kind='bar')\n",
    "plt.ylabel('# of Timesteps')\n",
    "plt.title('# of Timesteps and Exposure Point for Each Subject')\n"
   ]
  },
  {
   "cell_type": "markdown",
   "metadata": {
    "papermill": {
     "duration": 0.009624,
     "end_time": "2020-07-01T10:23:48.618355",
     "exception": false,
     "start_time": "2020-07-01T10:23:48.608731",
     "status": "completed"
    },
    "tags": []
   },
   "source": [
    "## Observations\n",
    "* Subjects not exposed halfway into respective studies, but around the same number of seconds in, 500000\n",
    "    * 500000 seconds is almost 6 days, but this doesn't mean the exposure started on Day 5 or 6, since data was collected only at specific times within the day.\n",
    "* I004's study could've lasted longer because the other subjects died."
   ]
  }
 ],
 "metadata": {
  "celltoolbar": "Tags",
  "file_extension": ".py",
  "kernelspec": {
   "display_name": "Python 3.7.6 64-bit",
   "language": "python",
   "name": "python37664bit428820946cd7473d8a76804ffe0f7c21"
  },
  "language_info": {
   "codemirror_mode": {
    "name": "ipython",
    "version": 3
   },
   "file_extension": ".py",
   "mimetype": "text/x-python",
   "name": "python",
   "nbconvert_exporter": "python",
   "pygments_lexer": "ipython3",
   "version": "3.7.6"
  },
  "mimetype": "text/x-python",
  "name": "python",
  "npconvert_exporter": "python",
  "papermill": {
   "duration": 3.664921,
   "end_time": "2020-07-01T10:23:48.961691",
   "environment_variables": {},
   "exception": null,
   "input_path": "sampling_exploration/sampling_analysis.ipynb",
   "output_path": "sampling_exploration/lassa_analysis.ipynb",
   "parameters": {
    "csv": "LASSA-Cyno-Aero.csv-Table 1.csv"
   },
   "start_time": "2020-07-01T10:23:45.296770",
   "version": "2.1.2"
  },
  "pygments_lexer": "ipython3",
  "version": 3
 },
 "nbformat": 4,
 "nbformat_minor": 4
}
