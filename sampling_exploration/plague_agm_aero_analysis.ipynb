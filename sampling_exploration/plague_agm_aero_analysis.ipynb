{
 "cells": [
  {
   "cell_type": "code",
   "execution_count": 2,
   "metadata": {
    "execution": {
     "iopub.execute_input": "2020-07-01T10:24:03.826886Z",
     "iopub.status.busy": "2020-07-01T10:24:03.826411Z",
     "iopub.status.idle": "2020-07-01T10:24:04.436769Z",
     "shell.execute_reply": "2020-07-01T10:24:04.436137Z"
    },
    "papermill": {
     "duration": 0.62442,
     "end_time": "2020-07-01T10:24:04.436867",
     "exception": false,
     "start_time": "2020-07-01T10:24:03.812447",
     "status": "completed"
    },
    "tags": []
   },
   "outputs": [],
   "source": [
    "import pandas as pd\n",
    "import numpy as np\n",
    "import matplotlib.pyplot as plt\n",
    "import seaborn as sns\n",
    "\n",
    "plt.style.use('seaborn-whitegrid')"
   ]
  },
  {
   "cell_type": "code",
   "execution_count": 3,
   "metadata": {
    "execution": {
     "iopub.execute_input": "2020-07-01T10:24:04.459364Z",
     "iopub.status.busy": "2020-07-01T10:24:04.458830Z",
     "iopub.status.idle": "2020-07-01T10:24:04.461273Z",
     "shell.execute_reply": "2020-07-01T10:24:04.460757Z"
    },
    "papermill": {
     "duration": 0.014123,
     "end_time": "2020-07-01T10:24:04.461351",
     "exception": false,
     "start_time": "2020-07-01T10:24:04.447228",
     "status": "completed"
    },
    "tags": []
   },
   "outputs": [],
   "source": [
    "csv = 'EBOV-Cyno-Aero-1.csv-Table 1.csv'"
   ]
  },
  {
   "cell_type": "code",
   "execution_count": 4,
   "metadata": {
    "execution": {
     "iopub.execute_input": "2020-07-01T10:24:04.478779Z",
     "iopub.status.busy": "2020-07-01T10:24:04.478287Z",
     "iopub.status.idle": "2020-07-01T10:24:04.480577Z",
     "shell.execute_reply": "2020-07-01T10:24:04.480067Z"
    },
    "jupyter": {
     "source_hidden": true
    },
    "papermill": {
     "duration": 0.01209,
     "end_time": "2020-07-01T10:24:04.480662",
     "exception": false,
     "start_time": "2020-07-01T10:24:04.468572",
     "status": "completed"
    },
    "tags": [
     "parameters"
    ]
   },
   "outputs": [],
   "source": [
    "csv = 'default'"
   ]
  },
  {
   "cell_type": "code",
   "execution_count": 5,
   "metadata": {
    "execution": {
     "iopub.execute_input": "2020-07-01T10:24:04.497667Z",
     "iopub.status.busy": "2020-07-01T10:24:04.497150Z",
     "iopub.status.idle": "2020-07-01T10:24:04.499085Z",
     "shell.execute_reply": "2020-07-01T10:24:04.499540Z"
    },
    "papermill": {
     "duration": 0.011896,
     "end_time": "2020-07-01T10:24:04.499638",
     "exception": false,
     "start_time": "2020-07-01T10:24:04.487742",
     "status": "completed"
    },
    "tags": [
     "injected-parameters"
    ]
   },
   "outputs": [],
   "source": [
    "# Parameters\n",
    "csv = \"Plague-AGM-Aero.csv-Table 1.csv\"\n"
   ]
  },
  {
   "cell_type": "code",
   "execution_count": 6,
   "metadata": {
    "execution": {
     "iopub.execute_input": "2020-07-01T10:24:04.552618Z",
     "iopub.status.busy": "2020-07-01T10:24:04.552151Z",
     "iopub.status.idle": "2020-07-01T10:24:04.581805Z",
     "shell.execute_reply": "2020-07-01T10:24:04.582172Z"
    },
    "papermill": {
     "duration": 0.052809,
     "end_time": "2020-07-01T10:24:04.582273",
     "exception": false,
     "start_time": "2020-07-01T10:24:04.529464",
     "status": "completed"
    },
    "tags": []
   },
   "outputs": [
    {
     "data": {
      "text/html": [
       "<div>\n",
       "<style scoped>\n",
       "    .dataframe tbody tr th:only-of-type {\n",
       "        vertical-align: middle;\n",
       "    }\n",
       "\n",
       "    .dataframe tbody tr th {\n",
       "        vertical-align: top;\n",
       "    }\n",
       "\n",
       "    .dataframe thead th {\n",
       "        text-align: right;\n",
       "    }\n",
       "</style>\n",
       "<table border=\"1\" class=\"dataframe\">\n",
       "  <thead>\n",
       "    <tr style=\"text-align: right;\">\n",
       "      <th></th>\n",
       "      <th>Day</th>\n",
       "      <th>Time</th>\n",
       "      <th>TimeS</th>\n",
       "      <th>Study</th>\n",
       "      <th>SubjectName</th>\n",
       "      <th>AOPSystolic_Mean</th>\n",
       "      <th>AOPSystolic_Q25</th>\n",
       "      <th>AOPSystolic_Q75</th>\n",
       "      <th>AOPDiastolic_Mean</th>\n",
       "      <th>AOPDiastolic_Q25</th>\n",
       "      <th>...</th>\n",
       "      <th>ITPDepth_Mean</th>\n",
       "      <th>ITPDepth_Q25</th>\n",
       "      <th>ITPDepth_Q75</th>\n",
       "      <th>APP_Mean</th>\n",
       "      <th>APP_Q25</th>\n",
       "      <th>APP_Q75</th>\n",
       "      <th>ANP_Mean</th>\n",
       "      <th>ANP_Q25</th>\n",
       "      <th>ANP_Q75</th>\n",
       "      <th>Y</th>\n",
       "    </tr>\n",
       "  </thead>\n",
       "  <tbody>\n",
       "    <tr>\n",
       "      <th>0</th>\n",
       "      <td>0</td>\n",
       "      <td>17:30</td>\n",
       "      <td>0</td>\n",
       "      <td>Plague-AGM-Aero</td>\n",
       "      <td>p001</td>\n",
       "      <td>0.030691</td>\n",
       "      <td>-0.117604</td>\n",
       "      <td>0.174710</td>\n",
       "      <td>0.521649</td>\n",
       "      <td>0.357952</td>\n",
       "      <td>...</td>\n",
       "      <td>0.246657</td>\n",
       "      <td>-0.113003</td>\n",
       "      <td>0.568278</td>\n",
       "      <td>0.585075</td>\n",
       "      <td>0.013063</td>\n",
       "      <td>1.166672</td>\n",
       "      <td>0.629777</td>\n",
       "      <td>-0.023617</td>\n",
       "      <td>1.248319</td>\n",
       "      <td>0</td>\n",
       "    </tr>\n",
       "    <tr>\n",
       "      <th>1</th>\n",
       "      <td>0</td>\n",
       "      <td>18:00</td>\n",
       "      <td>1800</td>\n",
       "      <td>Plague-AGM-Aero</td>\n",
       "      <td>p001</td>\n",
       "      <td>-0.231597</td>\n",
       "      <td>-0.289962</td>\n",
       "      <td>-0.179915</td>\n",
       "      <td>0.403422</td>\n",
       "      <td>0.341609</td>\n",
       "      <td>...</td>\n",
       "      <td>0.451288</td>\n",
       "      <td>-0.182047</td>\n",
       "      <td>1.041722</td>\n",
       "      <td>0.557147</td>\n",
       "      <td>0.082700</td>\n",
       "      <td>1.011652</td>\n",
       "      <td>0.571815</td>\n",
       "      <td>0.061466</td>\n",
       "      <td>1.010297</td>\n",
       "      <td>0</td>\n",
       "    </tr>\n",
       "    <tr>\n",
       "      <th>2</th>\n",
       "      <td>0</td>\n",
       "      <td>18:30</td>\n",
       "      <td>3600</td>\n",
       "      <td>Plague-AGM-Aero</td>\n",
       "      <td>p001</td>\n",
       "      <td>-0.307818</td>\n",
       "      <td>-0.365062</td>\n",
       "      <td>-0.252622</td>\n",
       "      <td>0.423504</td>\n",
       "      <td>0.381470</td>\n",
       "      <td>...</td>\n",
       "      <td>0.679727</td>\n",
       "      <td>0.278344</td>\n",
       "      <td>1.009065</td>\n",
       "      <td>0.648006</td>\n",
       "      <td>0.288583</td>\n",
       "      <td>1.083554</td>\n",
       "      <td>0.664451</td>\n",
       "      <td>0.279172</td>\n",
       "      <td>1.134640</td>\n",
       "      <td>0</td>\n",
       "    </tr>\n",
       "    <tr>\n",
       "      <th>3</th>\n",
       "      <td>0</td>\n",
       "      <td>19:00</td>\n",
       "      <td>5400</td>\n",
       "      <td>Plague-AGM-Aero</td>\n",
       "      <td>p001</td>\n",
       "      <td>-0.197920</td>\n",
       "      <td>-0.300189</td>\n",
       "      <td>-0.121084</td>\n",
       "      <td>0.385486</td>\n",
       "      <td>0.300086</td>\n",
       "      <td>...</td>\n",
       "      <td>0.574687</td>\n",
       "      <td>0.080012</td>\n",
       "      <td>0.859719</td>\n",
       "      <td>0.737893</td>\n",
       "      <td>0.218667</td>\n",
       "      <td>1.263483</td>\n",
       "      <td>0.790137</td>\n",
       "      <td>0.246203</td>\n",
       "      <td>1.332846</td>\n",
       "      <td>0</td>\n",
       "    </tr>\n",
       "    <tr>\n",
       "      <th>4</th>\n",
       "      <td>0</td>\n",
       "      <td>19:30</td>\n",
       "      <td>7200</td>\n",
       "      <td>Plague-AGM-Aero</td>\n",
       "      <td>p001</td>\n",
       "      <td>0.826978</td>\n",
       "      <td>0.243509</td>\n",
       "      <td>1.230426</td>\n",
       "      <td>0.942280</td>\n",
       "      <td>0.538610</td>\n",
       "      <td>...</td>\n",
       "      <td>0.563003</td>\n",
       "      <td>0.214984</td>\n",
       "      <td>0.873327</td>\n",
       "      <td>0.818440</td>\n",
       "      <td>0.421573</td>\n",
       "      <td>1.243939</td>\n",
       "      <td>0.824809</td>\n",
       "      <td>0.436213</td>\n",
       "      <td>1.243513</td>\n",
       "      <td>0</td>\n",
       "    </tr>\n",
       "  </tbody>\n",
       "</table>\n",
       "<p>5 rows × 63 columns</p>\n",
       "</div>"
      ],
      "text/plain": [
       "   Day   Time  TimeS            Study SubjectName  AOPSystolic_Mean  \\\n",
       "0    0  17:30      0  Plague-AGM-Aero        p001          0.030691   \n",
       "1    0  18:00   1800  Plague-AGM-Aero        p001         -0.231597   \n",
       "2    0  18:30   3600  Plague-AGM-Aero        p001         -0.307818   \n",
       "3    0  19:00   5400  Plague-AGM-Aero        p001         -0.197920   \n",
       "4    0  19:30   7200  Plague-AGM-Aero        p001          0.826978   \n",
       "\n",
       "   AOPSystolic_Q25  AOPSystolic_Q75  AOPDiastolic_Mean  AOPDiastolic_Q25  ...  \\\n",
       "0        -0.117604         0.174710           0.521649          0.357952  ...   \n",
       "1        -0.289962        -0.179915           0.403422          0.341609  ...   \n",
       "2        -0.365062        -0.252622           0.423504          0.381470  ...   \n",
       "3        -0.300189        -0.121084           0.385486          0.300086  ...   \n",
       "4         0.243509         1.230426           0.942280          0.538610  ...   \n",
       "\n",
       "   ITPDepth_Mean  ITPDepth_Q25  ITPDepth_Q75  APP_Mean   APP_Q25   APP_Q75  \\\n",
       "0       0.246657     -0.113003      0.568278  0.585075  0.013063  1.166672   \n",
       "1       0.451288     -0.182047      1.041722  0.557147  0.082700  1.011652   \n",
       "2       0.679727      0.278344      1.009065  0.648006  0.288583  1.083554   \n",
       "3       0.574687      0.080012      0.859719  0.737893  0.218667  1.263483   \n",
       "4       0.563003      0.214984      0.873327  0.818440  0.421573  1.243939   \n",
       "\n",
       "   ANP_Mean   ANP_Q25   ANP_Q75  Y  \n",
       "0  0.629777 -0.023617  1.248319  0  \n",
       "1  0.571815  0.061466  1.010297  0  \n",
       "2  0.664451  0.279172  1.134640  0  \n",
       "3  0.790137  0.246203  1.332846  0  \n",
       "4  0.824809  0.436213  1.243513  0  \n",
       "\n",
       "[5 rows x 63 columns]"
      ]
     },
     "execution_count": 6,
     "metadata": {},
     "output_type": "execute_result"
    }
   ],
   "source": [
    "df = pd.read_csv('~/Desktop/MachineLearningPython/scripps-data/' + csv)\n",
    "df.head(5)"
   ]
  },
  {
   "cell_type": "markdown",
   "metadata": {
    "papermill": {
     "duration": 0.007186,
     "end_time": "2020-07-01T10:24:04.597718",
     "exception": false,
     "start_time": "2020-07-01T10:24:04.590532",
     "status": "completed"
    },
    "tags": []
   },
   "source": [
    "# Get Summary Statistics"
   ]
  },
  {
   "cell_type": "code",
   "execution_count": 7,
   "metadata": {
    "execution": {
     "iopub.execute_input": "2020-07-01T10:24:04.623679Z",
     "iopub.status.busy": "2020-07-01T10:24:04.621224Z",
     "iopub.status.idle": "2020-07-01T10:24:04.728267Z",
     "shell.execute_reply": "2020-07-01T10:24:04.727872Z"
    },
    "papermill": {
     "duration": 0.123601,
     "end_time": "2020-07-01T10:24:04.728330",
     "exception": false,
     "start_time": "2020-07-01T10:24:04.604729",
     "status": "completed"
    },
    "tags": []
   },
   "outputs": [
    {
     "data": {
      "text/html": [
       "<div>\n",
       "<style scoped>\n",
       "    .dataframe tbody tr th:only-of-type {\n",
       "        vertical-align: middle;\n",
       "    }\n",
       "\n",
       "    .dataframe tbody tr th {\n",
       "        vertical-align: top;\n",
       "    }\n",
       "\n",
       "    .dataframe thead th {\n",
       "        text-align: right;\n",
       "    }\n",
       "</style>\n",
       "<table border=\"1\" class=\"dataframe\">\n",
       "  <thead>\n",
       "    <tr style=\"text-align: right;\">\n",
       "      <th></th>\n",
       "      <th>AOPSystolic_Mean</th>\n",
       "      <th>AOPSystolic_Q25</th>\n",
       "      <th>AOPSystolic_Q75</th>\n",
       "      <th>AOPDiastolic_Mean</th>\n",
       "      <th>AOPDiastolic_Q25</th>\n",
       "      <th>AOPDiastolic_Q75</th>\n",
       "      <th>RespMean_Mean</th>\n",
       "      <th>RespMean_Q25</th>\n",
       "      <th>RespMean_Q75</th>\n",
       "      <th>Temp_Mean</th>\n",
       "      <th>...</th>\n",
       "      <th>ITPDepth_Mean</th>\n",
       "      <th>ITPDepth_Q25</th>\n",
       "      <th>ITPDepth_Q75</th>\n",
       "      <th>APP_Mean</th>\n",
       "      <th>APP_Q25</th>\n",
       "      <th>APP_Q75</th>\n",
       "      <th>ANP_Mean</th>\n",
       "      <th>ANP_Q25</th>\n",
       "      <th>ANP_Q75</th>\n",
       "      <th>Y</th>\n",
       "    </tr>\n",
       "  </thead>\n",
       "  <tbody>\n",
       "    <tr>\n",
       "      <th>count</th>\n",
       "      <td>1973.000000</td>\n",
       "      <td>1973.000000</td>\n",
       "      <td>1973.000000</td>\n",
       "      <td>1973.000000</td>\n",
       "      <td>1973.000000</td>\n",
       "      <td>1973.000000</td>\n",
       "      <td>1973.000000</td>\n",
       "      <td>1973.000000</td>\n",
       "      <td>1973.000000</td>\n",
       "      <td>1973.000000</td>\n",
       "      <td>...</td>\n",
       "      <td>1973.000000</td>\n",
       "      <td>1973.000000</td>\n",
       "      <td>1973.000000</td>\n",
       "      <td>1973.000000</td>\n",
       "      <td>1973.000000</td>\n",
       "      <td>1973.000000</td>\n",
       "      <td>1973.000000</td>\n",
       "      <td>1973.000000</td>\n",
       "      <td>1973.000000</td>\n",
       "      <td>1973.000000</td>\n",
       "    </tr>\n",
       "    <tr>\n",
       "      <th>mean</th>\n",
       "      <td>0.339781</td>\n",
       "      <td>-0.075406</td>\n",
       "      <td>0.680960</td>\n",
       "      <td>0.153065</td>\n",
       "      <td>-0.140211</td>\n",
       "      <td>0.529016</td>\n",
       "      <td>0.313746</td>\n",
       "      <td>-0.283048</td>\n",
       "      <td>0.772322</td>\n",
       "      <td>0.993950</td>\n",
       "      <td>...</td>\n",
       "      <td>0.051298</td>\n",
       "      <td>-0.542322</td>\n",
       "      <td>0.496029</td>\n",
       "      <td>-0.122655</td>\n",
       "      <td>-0.717293</td>\n",
       "      <td>0.330183</td>\n",
       "      <td>-0.007392</td>\n",
       "      <td>-0.608926</td>\n",
       "      <td>0.441695</td>\n",
       "      <td>0.400912</td>\n",
       "    </tr>\n",
       "    <tr>\n",
       "      <th>std</th>\n",
       "      <td>1.426079</td>\n",
       "      <td>1.082734</td>\n",
       "      <td>1.917948</td>\n",
       "      <td>1.398188</td>\n",
       "      <td>1.896142</td>\n",
       "      <td>1.082720</td>\n",
       "      <td>1.819384</td>\n",
       "      <td>1.718798</td>\n",
       "      <td>2.228556</td>\n",
       "      <td>4.261777</td>\n",
       "      <td>...</td>\n",
       "      <td>0.882409</td>\n",
       "      <td>0.718472</td>\n",
       "      <td>1.111281</td>\n",
       "      <td>0.923501</td>\n",
       "      <td>0.737221</td>\n",
       "      <td>1.147960</td>\n",
       "      <td>0.936216</td>\n",
       "      <td>0.733495</td>\n",
       "      <td>1.185847</td>\n",
       "      <td>0.490208</td>\n",
       "    </tr>\n",
       "    <tr>\n",
       "      <th>min</th>\n",
       "      <td>-2.100714</td>\n",
       "      <td>-2.283048</td>\n",
       "      <td>-1.925728</td>\n",
       "      <td>-19.629225</td>\n",
       "      <td>-32.036770</td>\n",
       "      <td>-5.210594</td>\n",
       "      <td>-6.269505</td>\n",
       "      <td>-6.506436</td>\n",
       "      <td>-5.978054</td>\n",
       "      <td>-25.646292</td>\n",
       "      <td>...</td>\n",
       "      <td>-2.172711</td>\n",
       "      <td>-2.454805</td>\n",
       "      <td>-1.996186</td>\n",
       "      <td>-3.853133</td>\n",
       "      <td>-4.007562</td>\n",
       "      <td>-3.716296</td>\n",
       "      <td>-3.133002</td>\n",
       "      <td>-3.346074</td>\n",
       "      <td>-2.967007</td>\n",
       "      <td>0.000000</td>\n",
       "    </tr>\n",
       "    <tr>\n",
       "      <th>25%</th>\n",
       "      <td>-0.425753</td>\n",
       "      <td>-0.664016</td>\n",
       "      <td>-0.281950</td>\n",
       "      <td>-0.342205</td>\n",
       "      <td>-0.656940</td>\n",
       "      <td>0.012008</td>\n",
       "      <td>-0.282588</td>\n",
       "      <td>-0.727814</td>\n",
       "      <td>-0.070722</td>\n",
       "      <td>-0.594166</td>\n",
       "      <td>...</td>\n",
       "      <td>-0.476159</td>\n",
       "      <td>-0.946288</td>\n",
       "      <td>-0.212433</td>\n",
       "      <td>-0.524332</td>\n",
       "      <td>-0.965233</td>\n",
       "      <td>-0.250426</td>\n",
       "      <td>-0.473788</td>\n",
       "      <td>-0.919701</td>\n",
       "      <td>-0.198022</td>\n",
       "      <td>0.000000</td>\n",
       "    </tr>\n",
       "    <tr>\n",
       "      <th>50%</th>\n",
       "      <td>0.110942</td>\n",
       "      <td>-0.203457</td>\n",
       "      <td>0.330100</td>\n",
       "      <td>0.234994</td>\n",
       "      <td>0.058009</td>\n",
       "      <td>0.414445</td>\n",
       "      <td>-0.028040</td>\n",
       "      <td>-0.528929</td>\n",
       "      <td>0.306477</td>\n",
       "      <td>0.151729</td>\n",
       "      <td>...</td>\n",
       "      <td>-0.066088</td>\n",
       "      <td>-0.673252</td>\n",
       "      <td>0.391447</td>\n",
       "      <td>-0.143326</td>\n",
       "      <td>-0.740747</td>\n",
       "      <td>0.275243</td>\n",
       "      <td>-0.102229</td>\n",
       "      <td>-0.700818</td>\n",
       "      <td>0.296831</td>\n",
       "      <td>0.000000</td>\n",
       "    </tr>\n",
       "    <tr>\n",
       "      <th>75%</th>\n",
       "      <td>0.796712</td>\n",
       "      <td>0.368007</td>\n",
       "      <td>1.118987</td>\n",
       "      <td>0.637629</td>\n",
       "      <td>0.474824</td>\n",
       "      <td>0.892206</td>\n",
       "      <td>0.309316</td>\n",
       "      <td>-0.322025</td>\n",
       "      <td>0.864881</td>\n",
       "      <td>1.100494</td>\n",
       "      <td>...</td>\n",
       "      <td>0.392301</td>\n",
       "      <td>-0.303486</td>\n",
       "      <td>0.967205</td>\n",
       "      <td>0.250005</td>\n",
       "      <td>-0.464824</td>\n",
       "      <td>0.802367</td>\n",
       "      <td>0.311213</td>\n",
       "      <td>-0.396251</td>\n",
       "      <td>0.868165</td>\n",
       "      <td>1.000000</td>\n",
       "    </tr>\n",
       "    <tr>\n",
       "      <th>max</th>\n",
       "      <td>18.915475</td>\n",
       "      <td>13.544353</td>\n",
       "      <td>26.092609</td>\n",
       "      <td>6.441550</td>\n",
       "      <td>5.904352</td>\n",
       "      <td>6.792057</td>\n",
       "      <td>15.803540</td>\n",
       "      <td>14.650215</td>\n",
       "      <td>19.693110</td>\n",
       "      <td>37.774330</td>\n",
       "      <td>...</td>\n",
       "      <td>6.088148</td>\n",
       "      <td>4.995154</td>\n",
       "      <td>7.631677</td>\n",
       "      <td>8.260329</td>\n",
       "      <td>7.082785</td>\n",
       "      <td>10.041748</td>\n",
       "      <td>8.176797</td>\n",
       "      <td>6.615789</td>\n",
       "      <td>9.765410</td>\n",
       "      <td>1.000000</td>\n",
       "    </tr>\n",
       "  </tbody>\n",
       "</table>\n",
       "<p>8 rows × 58 columns</p>\n",
       "</div>"
      ],
      "text/plain": [
       "       AOPSystolic_Mean  AOPSystolic_Q25  AOPSystolic_Q75  AOPDiastolic_Mean  \\\n",
       "count       1973.000000      1973.000000      1973.000000        1973.000000   \n",
       "mean           0.339781        -0.075406         0.680960           0.153065   \n",
       "std            1.426079         1.082734         1.917948           1.398188   \n",
       "min           -2.100714        -2.283048        -1.925728         -19.629225   \n",
       "25%           -0.425753        -0.664016        -0.281950          -0.342205   \n",
       "50%            0.110942        -0.203457         0.330100           0.234994   \n",
       "75%            0.796712         0.368007         1.118987           0.637629   \n",
       "max           18.915475        13.544353        26.092609           6.441550   \n",
       "\n",
       "       AOPDiastolic_Q25  AOPDiastolic_Q75  RespMean_Mean  RespMean_Q25  \\\n",
       "count       1973.000000       1973.000000    1973.000000   1973.000000   \n",
       "mean          -0.140211          0.529016       0.313746     -0.283048   \n",
       "std            1.896142          1.082720       1.819384      1.718798   \n",
       "min          -32.036770         -5.210594      -6.269505     -6.506436   \n",
       "25%           -0.656940          0.012008      -0.282588     -0.727814   \n",
       "50%            0.058009          0.414445      -0.028040     -0.528929   \n",
       "75%            0.474824          0.892206       0.309316     -0.322025   \n",
       "max            5.904352          6.792057      15.803540     14.650215   \n",
       "\n",
       "       RespMean_Q75    Temp_Mean  ...  ITPDepth_Mean  ITPDepth_Q25  \\\n",
       "count   1973.000000  1973.000000  ...    1973.000000   1973.000000   \n",
       "mean       0.772322     0.993950  ...       0.051298     -0.542322   \n",
       "std        2.228556     4.261777  ...       0.882409      0.718472   \n",
       "min       -5.978054   -25.646292  ...      -2.172711     -2.454805   \n",
       "25%       -0.070722    -0.594166  ...      -0.476159     -0.946288   \n",
       "50%        0.306477     0.151729  ...      -0.066088     -0.673252   \n",
       "75%        0.864881     1.100494  ...       0.392301     -0.303486   \n",
       "max       19.693110    37.774330  ...       6.088148      4.995154   \n",
       "\n",
       "       ITPDepth_Q75     APP_Mean      APP_Q25      APP_Q75     ANP_Mean  \\\n",
       "count   1973.000000  1973.000000  1973.000000  1973.000000  1973.000000   \n",
       "mean       0.496029    -0.122655    -0.717293     0.330183    -0.007392   \n",
       "std        1.111281     0.923501     0.737221     1.147960     0.936216   \n",
       "min       -1.996186    -3.853133    -4.007562    -3.716296    -3.133002   \n",
       "25%       -0.212433    -0.524332    -0.965233    -0.250426    -0.473788   \n",
       "50%        0.391447    -0.143326    -0.740747     0.275243    -0.102229   \n",
       "75%        0.967205     0.250005    -0.464824     0.802367     0.311213   \n",
       "max        7.631677     8.260329     7.082785    10.041748     8.176797   \n",
       "\n",
       "           ANP_Q25      ANP_Q75            Y  \n",
       "count  1973.000000  1973.000000  1973.000000  \n",
       "mean     -0.608926     0.441695     0.400912  \n",
       "std       0.733495     1.185847     0.490208  \n",
       "min      -3.346074    -2.967007     0.000000  \n",
       "25%      -0.919701    -0.198022     0.000000  \n",
       "50%      -0.700818     0.296831     0.000000  \n",
       "75%      -0.396251     0.868165     1.000000  \n",
       "max       6.615789     9.765410     1.000000  \n",
       "\n",
       "[8 rows x 58 columns]"
      ]
     },
     "execution_count": 7,
     "metadata": {},
     "output_type": "execute_result"
    }
   ],
   "source": [
    "df.drop(['Day', 'TimeS'], axis=1).describe()"
   ]
  },
  {
   "cell_type": "markdown",
   "metadata": {
    "papermill": {
     "duration": 0.006891,
     "end_time": "2020-07-01T10:24:04.742666",
     "exception": false,
     "start_time": "2020-07-01T10:24:04.735775",
     "status": "completed"
    },
    "tags": []
   },
   "source": [
    "# Get Sampling Info for All of Subjects - Is it consistent?"
   ]
  },
  {
   "cell_type": "code",
   "execution_count": 8,
   "metadata": {
    "execution": {
     "iopub.execute_input": "2020-07-01T10:24:04.766712Z",
     "iopub.status.busy": "2020-07-01T10:24:04.762599Z",
     "iopub.status.idle": "2020-07-01T10:24:06.040621Z",
     "shell.execute_reply": "2020-07-01T10:24:06.040171Z"
    },
    "papermill": {
     "duration": 1.29136,
     "end_time": "2020-07-01T10:24:06.040684",
     "exception": false,
     "start_time": "2020-07-01T10:24:04.749324",
     "status": "completed"
    },
    "tags": []
   },
   "outputs": [
    {
     "data": {
      "image/png": "[encoded data removed]",
      "text/plain": [
       "<Figure size 864x288 with 2 Axes>"
      ]
     },
     "metadata": {
      "needs_background": "light"
     },
     "output_type": "display_data"
    },
    {
     "data": {
      "image/png": "[encoded data removed]",
      "text/plain": [
       "<Figure size 864x288 with 2 Axes>"
      ]
     },
     "metadata": {
      "needs_background": "light"
     },
     "output_type": "display_data"
    },
    {
     "data": {
      "image/png": "[encoded data removed]",
      "text/plain": [
       "<Figure size 864x288 with 2 Axes>"
      ]
     },
     "metadata": {
      "needs_background": "light"
     },
     "output_type": "display_data"
    },
    {
     "data": {
      "image/png": "[encoded data removed]",
      "text/plain": [
       "<Figure size 864x288 with 2 Axes>"
      ]
     },
     "metadata": {
      "needs_background": "light"
     },
     "output_type": "display_data"
    }
   ],
   "source": [
    "def sampling_analysis(subject):\n",
    "    df_subj = df[df['SubjectName'] == subject]\n",
    "\n",
    "    fig, ax = plt.subplots(1, 2, figsize=(12, 4))\n",
    "\n",
    "    num_days = len(np.unique(df_subj['Day']))\n",
    "    first_exposed = df_subj.loc[df_subj.Y == 1]['TimeS'].to_list()[0]\n",
    "    df_subj.plot(x='TimeS', y='Day', color='black', legend=False, subplots=True, ax=ax[0], rot=90)\n",
    "    ax[0].plot([first_exposed, first_exposed], [0, num_days], lw=6, alpha=0.4, ls='--')\n",
    "    ax[0].set_title(\"Days of Study, Reset at Exposure Period\", fontsize=11)\n",
    "\n",
    "    sampling_freqs = []\n",
    "    exposed = []\n",
    "    days = []\n",
    "\n",
    "    for i in range(0, 2):\n",
    "        for day in np.unique(df_subj.Day):\n",
    "            num_obvs = len(df_subj.loc[df_subj.Y == i]\n",
    "            .loc[df_subj.Day == day])\n",
    "            days.append(day)\n",
    "            exposed.append(i)\n",
    "            sampling_freqs.append(num_obvs)\n",
    "\n",
    "    sampling_freqs = pd.DataFrame(list(zip(days, exposed, sampling_freqs)), columns=['Day', 'Exposed', 'Sampling Frequency'])\n",
    "    sampling_freqs = sampling_freqs[sampling_freqs['Sampling Frequency'] != 0]\n",
    "\n",
    "    sampling_freqs.plot(y='Sampling Frequency', legend=False, color='black', subplots=True, ax=ax[1])\n",
    "    exposed_start = sampling_freqs.loc[sampling_freqs['Exposed'] == 1].index[0]\n",
    "    ax[1].plot([exposed_start, exposed_start], [0, max(sampling_freqs['Sampling Frequency'] + 5)], lw=4, alpha=0.4, ls='--')\n",
    "    plt.xticks(rotation=90)\n",
    "    plt.xlabel('Number of Days into Study')\n",
    "    ax[1].set_title('Sampling Frequency Over Study on ' + subject, fontsize=11)\n",
    "\n",
    "subjects = list(np.unique(df['SubjectName']))\n",
    "for subject in subjects:\n",
    "    sampling_analysis(subject)"
   ]
  },
  {
   "cell_type": "markdown",
   "metadata": {},
   "source": [
    "## Observations\n",
    "* The subjects are exposed within an SF dip. This **might** hinder the accuracy of classification as there aren't much data available right before and right after exposure.\n",
    "* All studies start on Day 0, but the SF is very little on this first day for each of the studies.\n",
    "* For the last two subjects, there were dips right on the exposure mark.\n",
    "* Aerosol injection might have distracted from data collection, as seen in the SF trends for all of these subjects.\n",
    "    * Aerosol injection for this specific disease"
   ]
  },
  {
   "cell_type": "code",
   "execution_count": 9,
   "metadata": {
    "execution": {
     "iopub.execute_input": "2020-07-01T10:24:06.070804Z",
     "iopub.status.busy": "2020-07-01T10:24:06.068721Z",
     "iopub.status.idle": "2020-07-01T10:24:06.081379Z",
     "shell.execute_reply": "2020-07-01T10:24:06.080956Z"
    },
    "papermill": {
     "duration": 0.0306,
     "end_time": "2020-07-01T10:24:06.081446",
     "exception": false,
     "start_time": "2020-07-01T10:24:06.050846",
     "status": "completed"
    },
    "tags": []
   },
   "outputs": [
    {
     "data": {
      "text/html": [
       "<div>\n",
       "<style scoped>\n",
       "    .dataframe tbody tr th:only-of-type {\n",
       "        vertical-align: middle;\n",
       "    }\n",
       "\n",
       "    .dataframe tbody tr th {\n",
       "        vertical-align: top;\n",
       "    }\n",
       "\n",
       "    .dataframe thead th {\n",
       "        text-align: right;\n",
       "    }\n",
       "</style>\n",
       "<table border=\"1\" class=\"dataframe\">\n",
       "  <thead>\n",
       "    <tr style=\"text-align: right;\">\n",
       "      <th></th>\n",
       "      <th>Num_TimeS</th>\n",
       "      <th>TimeS_Exposed</th>\n",
       "      <th>StudyProgress_Exposed</th>\n",
       "    </tr>\n",
       "    <tr>\n",
       "      <th>SubjectName</th>\n",
       "      <th></th>\n",
       "      <th></th>\n",
       "      <th></th>\n",
       "    </tr>\n",
       "  </thead>\n",
       "  <tbody>\n",
       "    <tr>\n",
       "      <th>p001</th>\n",
       "      <td>964800</td>\n",
       "      <td>712800</td>\n",
       "      <td>0.738806</td>\n",
       "    </tr>\n",
       "    <tr>\n",
       "      <th>p002</th>\n",
       "      <td>1175400</td>\n",
       "      <td>712800</td>\n",
       "      <td>0.606432</td>\n",
       "    </tr>\n",
       "    <tr>\n",
       "      <th>p003</th>\n",
       "      <td>864000</td>\n",
       "      <td>558000</td>\n",
       "      <td>0.645833</td>\n",
       "    </tr>\n",
       "    <tr>\n",
       "      <th>p004</th>\n",
       "      <td>988200</td>\n",
       "      <td>558000</td>\n",
       "      <td>0.564663</td>\n",
       "    </tr>\n",
       "  </tbody>\n",
       "</table>\n",
       "</div>"
      ],
      "text/plain": [
       "             Num_TimeS  TimeS_Exposed  StudyProgress_Exposed\n",
       "SubjectName                                                 \n",
       "p001            964800         712800               0.738806\n",
       "p002           1175400         712800               0.606432\n",
       "p003            864000         558000               0.645833\n",
       "p004            988200         558000               0.564663"
      ]
     },
     "execution_count": 9,
     "metadata": {},
     "output_type": "execute_result"
    }
   ],
   "source": [
    "time_steps = []\n",
    "exposed_at = []\n",
    "\n",
    "for subject in subjects:\n",
    "    time_steps.append(max(df[df['SubjectName'] == subject]['TimeS']))\n",
    "    exposed_at.append(min(df[(df['SubjectName'] == subject) & (df['Y'] == 1)]['TimeS']))\n",
    "\n",
    "exposed_when = [i / j for i, j in zip(exposed_at, time_steps)]\n",
    "\n",
    "length_exposed_df = pd.DataFrame(list(zip(subjects, time_steps, exposed_at, exposed_when)), columns=['SubjectName', 'Num_TimeS', 'TimeS_Exposed', 'StudyProgress_Exposed'])\n",
    "length_exposed_df = length_exposed_df.set_index('SubjectName')\n",
    "length_exposed_df"
   ]
  },
  {
   "cell_type": "code",
   "execution_count": 10,
   "metadata": {
    "execution": {
     "iopub.execute_input": "2020-07-01T10:24:06.103230Z",
     "iopub.status.busy": "2020-07-01T10:24:06.102857Z",
     "iopub.status.idle": "2020-07-01T10:24:06.112422Z",
     "shell.execute_reply": "2020-07-01T10:24:06.112750Z"
    },
    "papermill": {
     "duration": 0.022537,
     "end_time": "2020-07-01T10:24:06.112831",
     "exception": false,
     "start_time": "2020-07-01T10:24:06.090294",
     "status": "completed"
    },
    "tags": []
   },
   "outputs": [
    {
     "data": {
      "text/html": [
       "<div>\n",
       "<style scoped>\n",
       "    .dataframe tbody tr th:only-of-type {\n",
       "        vertical-align: middle;\n",
       "    }\n",
       "\n",
       "    .dataframe tbody tr th {\n",
       "        vertical-align: top;\n",
       "    }\n",
       "\n",
       "    .dataframe thead th {\n",
       "        text-align: right;\n",
       "    }\n",
       "</style>\n",
       "<table border=\"1\" class=\"dataframe\">\n",
       "  <thead>\n",
       "    <tr style=\"text-align: right;\">\n",
       "      <th></th>\n",
       "      <th>Num_TimeS</th>\n",
       "      <th>TimeS_Exposed</th>\n",
       "      <th>StudyProgress_Exposed</th>\n",
       "    </tr>\n",
       "  </thead>\n",
       "  <tbody>\n",
       "    <tr>\n",
       "      <th>count</th>\n",
       "      <td>4.000000e+00</td>\n",
       "      <td>4.000000</td>\n",
       "      <td>4.000000</td>\n",
       "    </tr>\n",
       "    <tr>\n",
       "      <th>mean</th>\n",
       "      <td>9.981000e+05</td>\n",
       "      <td>635400.000000</td>\n",
       "      <td>0.638934</td>\n",
       "    </tr>\n",
       "    <tr>\n",
       "      <th>std</th>\n",
       "      <td>1.299038e+05</td>\n",
       "      <td>89373.821671</td>\n",
       "      <td>0.074374</td>\n",
       "    </tr>\n",
       "    <tr>\n",
       "      <th>min</th>\n",
       "      <td>8.640000e+05</td>\n",
       "      <td>558000.000000</td>\n",
       "      <td>0.564663</td>\n",
       "    </tr>\n",
       "    <tr>\n",
       "      <th>25%</th>\n",
       "      <td>9.396000e+05</td>\n",
       "      <td>558000.000000</td>\n",
       "      <td>0.595990</td>\n",
       "    </tr>\n",
       "    <tr>\n",
       "      <th>50%</th>\n",
       "      <td>9.765000e+05</td>\n",
       "      <td>635400.000000</td>\n",
       "      <td>0.626133</td>\n",
       "    </tr>\n",
       "    <tr>\n",
       "      <th>75%</th>\n",
       "      <td>1.035000e+06</td>\n",
       "      <td>712800.000000</td>\n",
       "      <td>0.669076</td>\n",
       "    </tr>\n",
       "    <tr>\n",
       "      <th>max</th>\n",
       "      <td>1.175400e+06</td>\n",
       "      <td>712800.000000</td>\n",
       "      <td>0.738806</td>\n",
       "    </tr>\n",
       "  </tbody>\n",
       "</table>\n",
       "</div>"
      ],
      "text/plain": [
       "          Num_TimeS  TimeS_Exposed  StudyProgress_Exposed\n",
       "count  4.000000e+00       4.000000               4.000000\n",
       "mean   9.981000e+05  635400.000000               0.638934\n",
       "std    1.299038e+05   89373.821671               0.074374\n",
       "min    8.640000e+05  558000.000000               0.564663\n",
       "25%    9.396000e+05  558000.000000               0.595990\n",
       "50%    9.765000e+05  635400.000000               0.626133\n",
       "75%    1.035000e+06  712800.000000               0.669076\n",
       "max    1.175400e+06  712800.000000               0.738806"
      ]
     },
     "execution_count": 10,
     "metadata": {},
     "output_type": "execute_result"
    }
   ],
   "source": [
    "length_exposed_df.describe()"
   ]
  },
  {
   "cell_type": "code",
   "execution_count": 11,
   "metadata": {
    "execution": {
     "iopub.execute_input": "2020-07-01T10:24:06.137662Z",
     "iopub.status.busy": "2020-07-01T10:24:06.137233Z",
     "iopub.status.idle": "2020-07-01T10:24:06.300545Z",
     "shell.execute_reply": "2020-07-01T10:24:06.300917Z"
    },
    "papermill": {
     "duration": 0.179132,
     "end_time": "2020-07-01T10:24:06.300999",
     "exception": false,
     "start_time": "2020-07-01T10:24:06.121867",
     "status": "completed"
    },
    "tags": []
   },
   "outputs": [
    {
     "data": {
      "text/plain": [
       "Text(0.5, 1.0, '# of Timesteps and Exposure Point for Each Subject')"
      ]
     },
     "execution_count": 11,
     "metadata": {},
     "output_type": "execute_result"
    },
    {
     "data": {
      "image/png": "[encoded data removed]",
      "text/plain": [
       "<Figure size 432x288 with 1 Axes>"
      ]
     },
     "metadata": {
      "needs_background": "light"
     },
     "output_type": "display_data"
    }
   ],
   "source": [
    "length_exposed_df.plot(y=['Num_TimeS', 'TimeS_Exposed'], kind='bar')\n",
    "plt.ylabel('# of Timesteps')\n",
    "plt.title('# of Timesteps and Exposure Point for Each Subject')\n"
   ]
  },
  {
   "cell_type": "markdown",
   "metadata": {
    "papermill": {
     "duration": 0.009491,
     "end_time": "2020-07-01T10:24:06.320965",
     "exception": false,
     "start_time": "2020-07-01T10:24:06.311474",
     "status": "completed"
    },
    "tags": []
   },
   "source": [
    "## Observations\n",
    "* Two subjects are exposed earlier, two are exposed slightly later.\n",
    "    * The ones who are exposed earlier have more consistent sampling frequencies.\n",
    "    * There might have been some logistical issues (taking from and returning to the cages, perhaps) and data collection and aerosol injection was more dififcult for the two other primates.\n",
    "* The lengths vary, and this doesn't seem to correlate with sample frequency trends like the exposure time does."
   ]
  }
 ],
 "metadata": {
  "celltoolbar": "Tags",
  "file_extension": ".py",
  "kernelspec": {
   "display_name": "Python 3.7.6 64-bit",
   "language": "python",
   "name": "python37664bit428820946cd7473d8a76804ffe0f7c21"
  },
  "language_info": {
   "codemirror_mode": {
    "name": "ipython",
    "version": 3
   },
   "file_extension": ".py",
   "mimetype": "text/x-python",
   "name": "python",
   "nbconvert_exporter": "python",
   "pygments_lexer": "ipython3",
   "version": "3.7.6"
  },
  "mimetype": "text/x-python",
  "name": "python",
  "npconvert_exporter": "python",
  "papermill": {
   "duration": 3.539187,
   "end_time": "2020-07-01T10:24:06.670030",
   "environment_variables": {},
   "exception": null,
   "input_path": "sampling_exploration/sampling_analysis.ipynb",
   "output_path": "sampling_exploration/plague_agm_aero_analysis.ipynb",
   "parameters": {
    "csv": "Plague-AGM-Aero.csv-Table 1.csv"
   },
   "start_time": "2020-07-01T10:24:03.130843",
   "version": "2.1.2"
  },
  "pygments_lexer": "ipython3",
  "version": 3
 },
 "nbformat": 4,
 "nbformat_minor": 4
}
